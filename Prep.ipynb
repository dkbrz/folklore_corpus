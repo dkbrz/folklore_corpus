{
 "cells": [
  {
   "cell_type": "code",
   "execution_count": 5,
   "metadata": {},
   "outputs": [],
   "source": [
    "import sqlite3\n",
    "from pymystem3 import Mystem\n",
    "m = Mystem()\n",
    "con = sqlite3.connect('FDB.db')\n",
    "cur = con.cursor()"
   ]
  },
  {
   "cell_type": "code",
   "execution_count": 9,
   "metadata": {},
   "outputs": [],
   "source": [
    "import pandas as pd\n",
    "import re"
   ]
  },
  {
   "cell_type": "markdown",
   "metadata": {},
   "source": [
    "# 0 Data preparation"
   ]
  },
  {
   "cell_type": "markdown",
   "metadata": {},
   "source": [
    "Tags"
   ]
  },
  {
   "cell_type": "code",
   "execution_count": 10,
   "metadata": {},
   "outputs": [
    {
     "name": "stdout",
     "output_type": "stream",
     "text": [
      "{'A': 'pos', 'ADV': 'pos', 'ADVPRO': 'pos', 'ANUM': 'pos', 'APRO': 'pos', 'COM': 'pos', 'CONJ': 'pos', 'INTJ': 'pos', 'NUM': 'pos', 'PART': 'pos', 'PR': 'pos', 'S': 'pos', 'SPRO': 'pos', 'V': 'pos', 'praes': 'tense', 'inpraes': 'tense', 'praet': 'tense', 'nom': 'case', 'gen': 'case', 'dat': 'case', 'acc': 'case', 'ins': 'case', 'abl': 'case', 'part': 'case', 'loc': 'case', 'voc': 'case', 'sg': 'num', 'pl': 'num', 'ger': 'vform', 'inf': 'vform', 'partcp': 'vform', 'indic': 'vform', 'imper': 'vform', 'brev': 'aform', 'plen': 'aform', 'poss': 'aform', 'supr': 'degree', 'comp': 'degree', '1p': 'pers', '2p': 'pers', '3p': 'pers', 'm': 'gender', 'f': 'gender', 'n': 'gender', 'ipf': 'asp', 'pf': 'asp', 'act': 'voice', 'pass': 'voice', 'tran': 'trans', 'intr': 'trans', 'parenth': 'type', 'praed': 'type', 'abbr': 'type', 'mf': 'type', 'awkw': 'form', 'dist': 'form', 'geo': 'sem', 'persn': 'sem', 'patrn': 'sem', 'famn': 'sem', 'obsc': 'style', 'inform': 'style', 'rare': 'style', 'obsol': 'style'}\n"
     ]
    }
   ],
   "source": [
    "with open('./raw_data/tags.csv','r') as f:\n",
    "    tags = f.readlines()\n",
    "    result = {t.split()[0]:t.split()[1] for t in tags}\n",
    "print (result)"
   ]
  },
  {
   "cell_type": "markdown",
   "metadata": {},
   "source": [
    "# 1 block"
   ]
  },
  {
   "cell_type": "markdown",
   "metadata": {},
   "source": [
    "**Import informants**"
   ]
  },
  {
   "cell_type": "code",
   "execution_count": 123,
   "metadata": {},
   "outputs": [],
   "source": [
    "db_1 = sqlite3.connect('./raw_data/ABM.sqlite')\n",
    "db_1_cur = db_1.cursor()"
   ]
  },
  {
   "cell_type": "code",
   "execution_count": 124,
   "metadata": {},
   "outputs": [],
   "source": [
    "db_1_cur.execute('SELECT * FROM tblInformators')\n",
    "inf = db_1_cur.fetchall()"
   ]
  },
  {
   "cell_type": "code",
   "execution_count": 127,
   "metadata": {},
   "outputs": [
    {
     "data": {
      "text/plain": [
       "<sqlite3.Cursor at 0x7f09744a6960>"
      ]
     },
     "execution_count": 127,
     "metadata": {},
     "output_type": "execute_result"
    }
   ],
   "source": [
    "cur.executemany('INSERT INTO Informators (code, name, city, bio, old_id) VALUES (?,?,?,?,?)', inf)"
   ]
  },
  {
   "cell_type": "code",
   "execution_count": 128,
   "metadata": {},
   "outputs": [],
   "source": [
    "con.commit()"
   ]
  },
  {
   "cell_type": "markdown",
   "metadata": {},
   "source": [
    "**Import texts to database**"
   ]
  },
  {
   "cell_type": "markdown",
   "metadata": {},
   "source": [
    "load data"
   ]
  },
  {
   "cell_type": "code",
   "execution_count": 102,
   "metadata": {},
   "outputs": [],
   "source": [
    "db_1_cur.execute('SELECT * FROM tblCards')\n",
    "texts = db_1_cur.fetchall()"
   ]
  },
  {
   "cell_type": "code",
   "execution_count": 29,
   "metadata": {},
   "outputs": [
    {
     "name": "stdout",
     "output_type": "stream",
     "text": [
      "0 [Шёл разговор о пьющей женщине из Карпиловки, Г назвал её «Ма\\ндыка».] [Ма\\ндыка?] [Г:] Да. [Что это значит?] [Г, смеясь:] Ну, манды\\ка — э\\то… [А одновременно:] Коро\\че её ёб… [Г:] Все. [А:] Всё село\\. [Г:] Да, коро\\че… [А:] И… и… и из на\\шего, и коро\\че там… [Г:] Все подря\\д. [А:] Да. [А и Г одновременно:] Кому\\ не лень. [А:] Буты\\лку на стол, и… [Она пьёт, да?] [Г:] Ну, она\\ по-чё\\рному пьёт.\n",
      "1 \n",
      "2 \n",
      "3 \n",
      "4 XXIa\n",
      "5 5 б\n",
      "6 Брянская обл., Злынковский р-н, Спиридонова Буда\n",
      "7 2017\n",
      "8 А\n",
      "9 Г\n",
      "10 \n",
      "11 \n",
      "12 МЭГ\n",
      "13 НВП\n",
      "14 СЕ\n",
      "15 ФЕЕ\n",
      "16 1\n",
      "17 \n",
      "18 \n",
      "19 \n",
      "20 \n"
     ]
    }
   ],
   "source": [
    "for key, value in enumerate(texts[0]):\n",
    "    print (key, value)"
   ]
  },
  {
   "cell_type": "code",
   "execution_count": 116,
   "metadata": {},
   "outputs": [],
   "source": [
    "texts2 = []"
   ]
  },
  {
   "cell_type": "code",
   "execution_count": 117,
   "metadata": {},
   "outputs": [],
   "source": [
    "for row in texts:\n",
    "    new_row = (\n",
    "        'АБМ',\n",
    "        row[16],\n",
    "        row[6],\n",
    "        row[0],\n",
    "        row[7],\n",
    "        restore_label(row[5]),\n",
    "        row[4],\n",
    "        ', '.join(i for i in row[8:12] if i != ''),\n",
    "        ', '.join(i for i in row[12:16] if i != '') \n",
    "    )\n",
    "    texts2.append(new_row)"
   ]
  },
  {
   "cell_type": "code",
   "execution_count": 121,
   "metadata": {},
   "outputs": [
    {
     "data": {
      "text/plain": [
       "<sqlite3.Cursor at 0x7f09744a6960>"
      ]
     },
     "execution_count": 121,
     "metadata": {},
     "output_type": "execute_result"
    }
   ],
   "source": [
    "cur.executemany('INSERT INTO Texts (leader, old_id, city, raw_text, year, question, list, informants, collectors)\\\n",
    "VALUES (?,?,?,?,?,?,?,?,?)', texts2)"
   ]
  },
  {
   "cell_type": "code",
   "execution_count": 122,
   "metadata": {},
   "outputs": [],
   "source": [
    "con.commit()"
   ]
  },
  {
   "cell_type": "markdown",
   "metadata": {},
   "source": [
    "2. change question labels"
   ]
  },
  {
   "cell_type": "code",
   "execution_count": 110,
   "metadata": {},
   "outputs": [],
   "source": [
    "def restore_label(label):\n",
    "    label = label.split(',')\n",
    "    result = []\n",
    "    #print(label)\n",
    "    for i in label:\n",
    "        q = re.findall('^([0-9]*)[^0-9a-zа-я]*?([ a-zа-я\\.]*?)$', i.strip())[0]\n",
    "        #print (q)\n",
    "        result.append((q[0].strip(), q[1].strip()))\n",
    "    for key, value in enumerate(result):\n",
    "        if value[0] == '':\n",
    "            result[key] = (result[key-1][0].strip(), value[1].strip())\n",
    "    #print (result)\n",
    "    return ', '.join(''.join(i) for i in result)"
   ]
  },
  {
   "cell_type": "code",
   "execution_count": 115,
   "metadata": {},
   "outputs": [
    {
     "data": {
      "text/plain": [
       "'15а, 19а, 19в, 30а, 14а, 25а, 25б, 16а'"
      ]
     },
     "execution_count": 115,
     "metadata": {},
     "output_type": "execute_result"
    }
   ],
   "source": [
    "restore_label('15 а, 19 а, в, 30 а, 14 а, 25 а, б, 16 а')"
   ]
  },
  {
   "cell_type": "code",
   "execution_count": 68,
   "metadata": {},
   "outputs": [
    {
     "data": {
      "text/plain": [
       "[('10', 'б')]"
      ]
     },
     "execution_count": 68,
     "metadata": {},
     "output_type": "execute_result"
    }
   ],
   "source": [
    "re.findall('^([0-9]*)[^0-9a-zа-я]*?([a-zа-я]*?)$',label[1].strip())"
   ]
  },
  {
   "cell_type": "code",
   "execution_count": null,
   "metadata": {},
   "outputs": [],
   "source": []
  },
  {
   "cell_type": "code",
   "execution_count": null,
   "metadata": {},
   "outputs": [],
   "source": []
  },
  {
   "cell_type": "code",
   "execution_count": null,
   "metadata": {},
   "outputs": [],
   "source": [
    "data['Вопрос'] = restore_label(data['Вопрос'])"
   ]
  },
  {
   "cell_type": "markdown",
   "metadata": {},
   "source": [
    "3. normalize text"
   ]
  },
  {
   "cell_type": "code",
   "execution_count": 132,
   "metadata": {},
   "outputs": [],
   "source": [
    "from nltk.tokenize import sent_tokenize"
   ]
  },
  {
   "cell_type": "code",
   "execution_count": 133,
   "metadata": {},
   "outputs": [],
   "source": [
    "def no_stress(text):\n",
    "    text = text.replace('\\\\', '')\n",
    "    return text\n",
    "\n",
    "def split_sentences(text):\n",
    "    text = text.replace('[', '\\n[')\n",
    "    text = re.sub('\\n{2,}','\\n')\n",
    "    text = text.split('\\n')\n",
    "    text = [sent_tokenize(chunk) for chunk in text]\n",
    "    return text"
   ]
  },
  {
   "cell_type": "code",
   "execution_count": null,
   "metadata": {},
   "outputs": [],
   "source": [
    "def get_meta(code):\n",
    "    cur.execute('SELECT id, gender, birthyear FROM Informants WHERE code=\\\"{}\\\"'.format(code))\n",
    "    indiv = cur.fetchone()\n",
    "    return {'id':indiv[0], 'gender':indiv[1], 'year':indiv[2]}\n",
    "\n",
    "def get_col_id(code):\n",
    "    cur.execute('SELECT id FROM Collectors WHERE code=\\\"{}\\\"'.format(code))\n",
    "    indiv = cur.fetchone()\n",
    "    return indiv[0]\n",
    "\n",
    "def joint_meta(informants, collectors):\n",
    "    informants = informants.split(',')\n",
    "    result = {'inf':{}, 'col':{}}\n",
    "    for i in informants:\n",
    "        result['inf'][i.strip()] = get_meta(code)\n",
    "    for i in collectors:\n",
    "        result['col'][i.strip()] = get_col_id(code)"
   ]
  },
  {
   "cell_type": "code",
   "execution_count": null,
   "metadata": {},
   "outputs": [],
   "source": [
    "def join_text(text, sentence):\n",
    "    text = text\n",
    "    for word in words:\n",
    "            if 'wf' not in word:\n",
    "                continue\n",
    "            word['off_start'] = len(text)\n",
    "            if word['wtype'] == 'word':\n",
    "                text += word['wf'] + ' '\n",
    "                word['off_end'] = len(text) - 1\n",
    "            else:\n",
    "                if word['wf'].startswith(('(', '[', '{', '<', '“')):\n",
    "                    text += word['wf']\n",
    "                    word['off_end'] = len(text)\n",
    "                elif word['wf'].startswith((')', ']', '}', '>', '.', ',', '?', '!', '”', '…')):\n",
    "                    if text.endswith(' '):\n",
    "                        word['off_start'] -= 1\n",
    "                        text = text[:-1]\n",
    "                    text += word['wf'] + ' '\n",
    "                    word['off_end'] = len(text) - 1\n",
    "                else:\n",
    "                    text += word['wf'] + ' '\n",
    "                    word['off_end'] = len(text) - 1\n",
    "        return text.strip()"
   ]
  },
  {
   "cell_type": "code",
   "execution_count": null,
   "metadata": {},
   "outputs": [],
   "source": [
    "def ana(analysis):\n",
    "    global tags\n",
    "    result = {}\n",
    "    for i in analysis:\n",
    "        if i in tags:\n",
    "            result[tags[i]] = i\n",
    "    return result"
   ]
  },
  {
   "cell_type": "code",
   "execution_count": null,
   "metadata": {},
   "outputs": [],
   "source": [
    "def tokens(parsed):\n",
    "    result = []\n",
    "    for i in parsed:\n",
    "        if 'analysis' in i:\n",
    "            r = {}\n",
    "            r['wf'] = i['text']\n",
    "            r['wtype'] = i['word']\n",
    "            r['ana'] = []\n",
    "            for var in i['analysis']:\n",
    "                r['ana'].append(ana(var))\n",
    "    return result"
   ]
  },
  {
   "cell_type": "code",
   "execution_count": null,
   "metadata": {},
   "outputs": [],
   "source": [
    "def parse_sentence(sentence, meta):\n",
    "    result = {'meta':{}, 'words':[]}\n",
    "    if not re.match('^\\[.*?\\]$', sentence):\n",
    "        sentence = sentence.split(']')\n",
    "        sentence[0] = sentence[0]+']'\n",
    "        parsed = tokens(m.analyze(sentence[1]))\n",
    "    else:\n",
    "        parsed = tokens(m.analyze(sentence))\n",
    "    "
   ]
  },
  {
   "cell_type": "code",
   "execution_count": null,
   "metadata": {},
   "outputs": [],
   "source": []
  }
 ],
 "metadata": {
  "kernelspec": {
   "display_name": "Python 3",
   "language": "python",
   "name": "python3"
  },
  "language_info": {
   "codemirror_mode": {
    "name": "ipython",
    "version": 3
   },
   "file_extension": ".py",
   "mimetype": "text/x-python",
   "name": "python",
   "nbconvert_exporter": "python",
   "pygments_lexer": "ipython3",
   "version": "3.6.6"
  }
 },
 "nbformat": 4,
 "nbformat_minor": 2
}
