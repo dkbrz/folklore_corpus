{
 "cells": [
  {
   "cell_type": "code",
   "execution_count": 61,
   "metadata": {},
   "outputs": [],
   "source": [
    "import sqlite3\n",
    "from pymystem3 import Mystem\n",
    "m = Mystem()\n",
    "con = sqlite3.connect('FDB.db')\n",
    "cur = con.cursor()"
   ]
  },
  {
   "cell_type": "code",
   "execution_count": 3,
   "metadata": {},
   "outputs": [],
   "source": [
    "import pandas as pd\n",
    "import re"
   ]
  },
  {
   "cell_type": "markdown",
   "metadata": {},
   "source": [
    "# 0 Data preparation"
   ]
  },
  {
   "cell_type": "markdown",
   "metadata": {},
   "source": [
    "Tags"
   ]
  },
  {
   "cell_type": "code",
   "execution_count": 3,
   "metadata": {},
   "outputs": [
    {
     "name": "stdout",
     "output_type": "stream",
     "text": [
      "{'A': 'pos', 'ADV': 'pos', 'ADVPRO': 'pos', 'ANUM': 'pos', 'APRO': 'pos', 'COM': 'pos', 'CONJ': 'pos', 'INTJ': 'pos', 'NUM': 'pos', 'PART': 'pos', 'PR': 'pos', 'S': 'pos', 'SPRO': 'pos', 'V': 'pos', 'praes': 'tense', 'inpraes': 'tense', 'praet': 'tense', 'nom': 'case', 'gen': 'case', 'dat': 'case', 'acc': 'case', 'ins': 'case', 'abl': 'case', 'part': 'case', 'loc': 'case', 'voc': 'case', 'sg': 'num', 'pl': 'num', 'ger': 'vform', 'inf': 'vform', 'partcp': 'vform', 'indic': 'vform', 'imper': 'vform', 'brev': 'aform', 'plen': 'aform', 'poss': 'aform', 'supr': 'degree', 'comp': 'degree', '1p': 'pers', '2p': 'pers', '3p': 'pers', 'm': 'gender', 'f': 'gender', 'n': 'gender', 'ipf': 'asp', 'pf': 'asp', 'act': 'voice', 'pass': 'voice', 'tran': 'trans', 'intr': 'trans', 'parenth': 'type', 'praed': 'type', 'abbr': 'type', 'mf': 'type', 'awkw': 'form', 'dist': 'form', 'geo': 'sem', 'persn': 'sem', 'patrn': 'sem', 'famn': 'sem', 'obsc': 'style', 'inform': 'style', 'rare': 'style', 'obsol': 'style'}\n"
     ]
    }
   ],
   "source": [
    "with open('./raw_data/tags.csv','r') as f:\n",
    "    tags = f.readlines()\n",
    "    result = {t.split()[0]:t.split()[1] for t in tags}\n",
    "print (result)"
   ]
  },
  {
   "cell_type": "markdown",
   "metadata": {},
   "source": [
    "# 1 block"
   ]
  },
  {
   "cell_type": "markdown",
   "metadata": {},
   "source": [
    "**Import informants**"
   ]
  },
  {
   "cell_type": "code",
   "execution_count": 123,
   "metadata": {},
   "outputs": [],
   "source": [
    "db_1 = sqlite3.connect('./raw_data/ABM.sqlite')\n",
    "db_1_cur = db_1.cursor()"
   ]
  },
  {
   "cell_type": "code",
   "execution_count": 124,
   "metadata": {},
   "outputs": [],
   "source": [
    "db_1_cur.execute('SELECT * FROM tblInformators')\n",
    "inf = db_1_cur.fetchall()"
   ]
  },
  {
   "cell_type": "code",
   "execution_count": 127,
   "metadata": {},
   "outputs": [
    {
     "data": {
      "text/plain": [
       "<sqlite3.Cursor at 0x7f09744a6960>"
      ]
     },
     "execution_count": 127,
     "metadata": {},
     "output_type": "execute_result"
    }
   ],
   "source": [
    "cur.executemany('INSERT INTO Informators (code, name, city, bio, old_id) VALUES (?,?,?,?,?)', inf)"
   ]
  },
  {
   "cell_type": "code",
   "execution_count": 128,
   "metadata": {},
   "outputs": [],
   "source": [
    "con.commit()"
   ]
  },
  {
   "cell_type": "markdown",
   "metadata": {},
   "source": [
    "**Import texts to database**"
   ]
  },
  {
   "cell_type": "markdown",
   "metadata": {},
   "source": [
    "load data"
   ]
  },
  {
   "cell_type": "code",
   "execution_count": 102,
   "metadata": {},
   "outputs": [],
   "source": [
    "db_1_cur.execute('SELECT * FROM tblCards')\n",
    "texts = db_1_cur.fetchall()"
   ]
  },
  {
   "cell_type": "code",
   "execution_count": 29,
   "metadata": {},
   "outputs": [
    {
     "name": "stdout",
     "output_type": "stream",
     "text": [
      "0 [Шёл разговор о пьющей женщине из Карпиловки, Г назвал её «Ма\\ндыка».] [Ма\\ндыка?] [Г:] Да. [Что это значит?] [Г, смеясь:] Ну, манды\\ка — э\\то… [А одновременно:] Коро\\че её ёб… [Г:] Все. [А:] Всё село\\. [Г:] Да, коро\\че… [А:] И… и… и из на\\шего, и коро\\че там… [Г:] Все подря\\д. [А:] Да. [А и Г одновременно:] Кому\\ не лень. [А:] Буты\\лку на стол, и… [Она пьёт, да?] [Г:] Ну, она\\ по-чё\\рному пьёт.\n",
      "1 \n",
      "2 \n",
      "3 \n",
      "4 XXIa\n",
      "5 5 б\n",
      "6 Брянская обл., Злынковский р-н, Спиридонова Буда\n",
      "7 2017\n",
      "8 А\n",
      "9 Г\n",
      "10 \n",
      "11 \n",
      "12 МЭГ\n",
      "13 НВП\n",
      "14 СЕ\n",
      "15 ФЕЕ\n",
      "16 1\n",
      "17 \n",
      "18 \n",
      "19 \n",
      "20 \n"
     ]
    }
   ],
   "source": [
    "for key, value in enumerate(texts[0]):\n",
    "    print (key, value)"
   ]
  },
  {
   "cell_type": "code",
   "execution_count": 116,
   "metadata": {},
   "outputs": [],
   "source": [
    "texts2 = []"
   ]
  },
  {
   "cell_type": "code",
   "execution_count": 117,
   "metadata": {},
   "outputs": [],
   "source": [
    "for row in texts:\n",
    "    new_row = (\n",
    "        'АБМ',\n",
    "        row[16],\n",
    "        row[6],\n",
    "        row[0],\n",
    "        row[7],\n",
    "        restore_label(row[5]),\n",
    "        row[4],\n",
    "        ', '.join(i for i in row[8:12] if i != ''),\n",
    "        ', '.join(i for i in row[12:16] if i != '') \n",
    "    )\n",
    "    texts2.append(new_row)"
   ]
  },
  {
   "cell_type": "code",
   "execution_count": 121,
   "metadata": {},
   "outputs": [
    {
     "data": {
      "text/plain": [
       "<sqlite3.Cursor at 0x7f09744a6960>"
      ]
     },
     "execution_count": 121,
     "metadata": {},
     "output_type": "execute_result"
    }
   ],
   "source": [
    "cur.executemany('INSERT INTO Texts (leader, old_id, city, raw_text, year, question, list, informants, collectors)\\\n",
    "VALUES (?,?,?,?,?,?,?,?,?)', texts2)"
   ]
  },
  {
   "cell_type": "code",
   "execution_count": 122,
   "metadata": {},
   "outputs": [],
   "source": [
    "con.commit()"
   ]
  },
  {
   "cell_type": "markdown",
   "metadata": {},
   "source": [
    "2. change question labels"
   ]
  },
  {
   "cell_type": "code",
   "execution_count": 110,
   "metadata": {},
   "outputs": [],
   "source": [
    "def restore_label(label):\n",
    "    label = label.split(',')\n",
    "    result = []\n",
    "    #print(label)\n",
    "    for i in label:\n",
    "        q = re.findall('^([0-9]*)[^0-9a-zа-я]*?([ a-zа-я\\.]*?)$', i.strip())[0]\n",
    "        #print (q)\n",
    "        result.append((q[0].strip(), q[1].strip()))\n",
    "    for key, value in enumerate(result):\n",
    "        if value[0] == '':\n",
    "            result[key] = (result[key-1][0].strip(), value[1].strip())\n",
    "    #print (result)\n",
    "    return ', '.join(''.join(i) for i in result)"
   ]
  },
  {
   "cell_type": "code",
   "execution_count": 115,
   "metadata": {},
   "outputs": [
    {
     "data": {
      "text/plain": [
       "'15а, 19а, 19в, 30а, 14а, 25а, 25б, 16а'"
      ]
     },
     "execution_count": 115,
     "metadata": {},
     "output_type": "execute_result"
    }
   ],
   "source": [
    "restore_label('15 а, 19 а, в, 30 а, 14 а, 25 а, б, 16 а')"
   ]
  },
  {
   "cell_type": "code",
   "execution_count": 68,
   "metadata": {},
   "outputs": [
    {
     "data": {
      "text/plain": [
       "[('10', 'б')]"
      ]
     },
     "execution_count": 68,
     "metadata": {},
     "output_type": "execute_result"
    }
   ],
   "source": [
    "re.findall('^([0-9]*)[^0-9a-zа-я]*?([a-zа-я]*?)$',label[1].strip())"
   ]
  },
  {
   "cell_type": "code",
   "execution_count": null,
   "metadata": {},
   "outputs": [],
   "source": []
  },
  {
   "cell_type": "code",
   "execution_count": null,
   "metadata": {},
   "outputs": [],
   "source": []
  },
  {
   "cell_type": "code",
   "execution_count": null,
   "metadata": {},
   "outputs": [],
   "source": [
    "data['Вопрос'] = restore_label(data['Вопрос'])"
   ]
  },
  {
   "cell_type": "markdown",
   "metadata": {},
   "source": [
    "3. normalize text"
   ]
  },
  {
   "cell_type": "code",
   "execution_count": 215,
   "metadata": {},
   "outputs": [
    {
     "data": {
      "text/plain": [
       "True"
      ]
     },
     "execution_count": 215,
     "metadata": {},
     "output_type": "execute_result"
    }
   ],
   "source": [
    "a = 'у% Я́ цветоу%ок не брал и цветоу%'\n",
    "len ([i['text'] for i in m.analyze(a)]) == len(m.analyze(a))"
   ]
  },
  {
   "cell_type": "code",
   "execution_count": 216,
   "metadata": {},
   "outputs": [],
   "source": [
    "def norm_v(text):\n",
    "    k = [i['text'] for i in m.analyze(text)]\n",
    "    r = ['empty']\n",
    "    for i in k:\n",
    "        if '%' not in i:\n",
    "            if r[-1][-1] != '%':\n",
    "                r += [i]\n",
    "            else:\n",
    "                r[-1]+=i\n",
    "        else:\n",
    "            r[-1]+='%'\n",
    "            if i != '%':\n",
    "                r += [i.replace('%','')] \n",
    "    return r[1:]"
   ]
  },
  {
   "cell_type": "code",
   "execution_count": 218,
   "metadata": {},
   "outputs": [
    {
     "data": {
      "text/plain": [
       "['у%',\n",
       " ' ',\n",
       " 'Я́',\n",
       " ' ',\n",
       " 'цветоу%ок',\n",
       " ' ',\n",
       " 'не',\n",
       " ' ',\n",
       " 'брал',\n",
       " ' ',\n",
       " 'и',\n",
       " ' ',\n",
       " 'цветоу%',\n",
       " '\\n']"
      ]
     },
     "execution_count": 218,
     "metadata": {},
     "output_type": "execute_result"
    }
   ],
   "source": [
    "norm_v(a)"
   ]
  },
  {
   "cell_type": "code",
   "execution_count": 85,
   "metadata": {},
   "outputs": [
    {
     "data": {
      "text/plain": [
       "'в Я́ цветовок не брал и цветов\\n'"
      ]
     },
     "execution_count": 85,
     "metadata": {},
     "output_type": "execute_result"
    }
   ],
   "source": [
    "''.join(norm_v(a)).replace('у%','в')"
   ]
  },
  {
   "cell_type": "code",
   "execution_count": null,
   "metadata": {},
   "outputs": [],
   "source": [
    "def "
   ]
  },
  {
   "cell_type": "code",
   "execution_count": 67,
   "metadata": {},
   "outputs": [],
   "source": [
    "accents = {'А́ ':'А', 'Е́ ':'Е','И́ ':'И','О́ ':'О','У́ ':'У','Ы́ ':'Ы','Э́ ':'Э','Ю́ ':'Ю','Я́':'Я',\n",
    "           'а́':'а','е́':'е','и́':'и','о́':'о', 'у́':'у', 'ы́':'ы', 'э́':'э', 'ю́':'ю', 'я́':'я'}"
   ]
  },
  {
   "cell_type": "code",
   "execution_count": 68,
   "metadata": {},
   "outputs": [],
   "source": [
    "get_accents = {item[1]+'\\\\': item[0] for item in accents.items()}"
   ]
  },
  {
   "cell_type": "code",
   "execution_count": 168,
   "metadata": {},
   "outputs": [],
   "source": [
    "a = '[Вы вчера рассказывали историю с цветами, что это было?] [А:] Ну, э\\то как бы э… не зна\\ю, и\\ли приме\\та и\\ли… ну, что-то… вот когда\\ моего\\ дя\\дю хорони\\ли э… то\\же, ну, кода\\ хорони\\ли его\\, хоте\\ли то\\же цветы\\ положи\\ть и\\ли что-то хоте\\ли положи\\ть туда\\, вро\\де, цветы\\, она\\ стро\\го запрети\\ла, ну там, же\\нщина, кото\\рая всё по э\\тим, по похорона\\м от, она\\ сказа\\ла: «Стро\\го нельзя\\». Ну, ти\\па, ско\\ка положи\\ли тогда\\, ну, в про\\шлый раз там что-то, в моги\\лу цвето\\у%, сто… че\\рез сто\\ка дней ро\\дственник у\\мер и\\ли чт… ну, коро\\че, что-то тако\\е, и\\ли когда\\ цветы\\ завя\\ли, ро\\дственник у\\мер, что-то… [Соб.: Ты что-то рассказывал, что она букет кинула в гроб…] Ну да, э\\то вон, Гри\\ша, да. [Соб.: А, Гриша.] [Г:] Я расска\\зывал от что, ну, они\\ сказа\\ли то, что кода\\ она\\ ски\\нула, ско\\ка, то\\ ли де\\вять цвето\\в, ну, в моги\\лу получа\\ется кода\\... все песо\\к кида\\ли, а она\\ цветы\\ ски\\нула. И по\\сле э\\того у нас, ну, начало\\сь, вот э\\ти де\\вять пацано\\в у\\мерло. И\\менно вот из-за э\\того. Говоря\\т то, что и\\менно из-за э\\того, то что…'"
   ]
  },
  {
   "cell_type": "code",
   "execution_count": 88,
   "metadata": {},
   "outputs": [
    {
     "data": {
      "text/plain": [
       "{'И\\\\', 'а\\\\', 'е\\\\', 'и\\\\', 'о\\\\', 'у\\\\', 'ы\\\\', 'э\\\\', 'я\\\\'}"
      ]
     },
     "execution_count": 88,
     "metadata": {},
     "output_type": "execute_result"
    }
   ],
   "source": [
    "s = set(re.findall('.\\\\\\\\', a))\n",
    "s"
   ]
  },
  {
   "cell_type": "code",
   "execution_count": 108,
   "metadata": {},
   "outputs": [],
   "source": [
    "for i in s:\n",
    "    a = a.replace(i, get_accents[i])"
   ]
  },
  {
   "cell_type": "code",
   "execution_count": 109,
   "metadata": {},
   "outputs": [
    {
     "data": {
      "text/plain": [
       "'[Вы вчера рассказывали историю с цветами, что это было?] [А:] Ну, э́то как бы э… не зна́ю, и́ли приме́та и́ли… ну, что-то… вот когда́ моего́ дя́дю хорони́ли э… то́же, ну, кода́ хорони́ли его́, хоте́ли то́же цветы́ положи́ть и́ли что-то хоте́ли положи́ть туда́, вро́де, цветы́, она́ стро́го запрети́ла, ну там, же́нщина, кото́рая всё по э́тим, по похорона́м от, она́ сказа́ла: «Стро́го нельзя́». Ну, ти́па, ско́ка положи́ли тогда́, ну, в про́шлый раз там что-то, в моги́лу цвето́у%, сто… че́рез сто́ка дней ро́дственник у́мер и́ли чт… ну, коро́че, что-то тако́е, и́ли когда́ цветы́ завя́ли, ро́дственник у́мер, что-то… [Соб.: Ты что-то рассказывал, что она букет кинула в гроб…] Ну да, э́то вон, Гри́ша, да. [Соб.: А, Гриша.] [Г:] Я расска́зывал от что, ну, они́ сказа́ли то, что кода́ она́ ски́нула, ско́ка, то́ ли де́вять цвето́в, ну, в моги́лу получа́ется кода́... все песо́к кида́ли, а она́ цветы́ ски́нула. И по́сле э́того у нас, ну, начало́сь, вот э́ти де́вять пацано́в у́мерло. И́ менно вот из-за э́того. Говоря́т то, что и́менно из-за э́того, то что…'"
      ]
     },
     "execution_count": 109,
     "metadata": {},
     "output_type": "execute_result"
    }
   ],
   "source": [
    "a"
   ]
  },
  {
   "cell_type": "code",
   "execution_count": 113,
   "metadata": {},
   "outputs": [],
   "source": [
    "a = re.sub('\\[','\\n[',a)\n",
    "\n",
    "a = re.sub('[^:]\\]',']\\n',a)\n",
    "\n",
    "a = re.sub('[ ]*?\\n','\\n',a)\n",
    "\n",
    "a = re.sub('\\n[ \\n]*','\\n',a).strip()\n",
    "\n",
    "a = a.split('\\n')"
   ]
  },
  {
   "cell_type": "code",
   "execution_count": 151,
   "metadata": {},
   "outputs": [
    {
     "name": "stdout",
     "output_type": "stream",
     "text": [
      "[А:]\n",
      "[Г:]\n"
     ]
    }
   ],
   "source": [
    "for i in a:\n",
    "    r = re.findall('\\[.*?\\]', i)\n",
    "    if len(r) > 0:\n",
    "        if re.match('^\\[[A-ZА-Я-0-9]{1,5}:\\]$', r[0]):\n",
    "            print (r[0])"
   ]
  },
  {
   "cell_type": "code",
   "execution_count": 41,
   "metadata": {},
   "outputs": [
    {
     "data": {
      "text/plain": [
       "[{'analysis': [{'lex': 'ну', 'wt': 0.9991076439, 'gr': 'PART='}],\n",
       "  'text': 'Ну'},\n",
       " {'text': ', '},\n",
       " {'analysis': [{'lex': 'это',\n",
       "    'wt': 0.7809833731,\n",
       "    'gr': 'SPRO,sg,n,inan=(acc|nom)'}],\n",
       "  'text': 'э́то'}]"
      ]
     },
     "execution_count": 41,
     "metadata": {},
     "output_type": "execute_result"
    }
   ],
   "source": [
    "m.analyze(a)[22:25]"
   ]
  },
  {
   "cell_type": "code",
   "execution_count": 4,
   "metadata": {},
   "outputs": [],
   "source": [
    "class OneSentence:\n",
    "    def __init__(self, text, prefix):\n",
    "        self.show_prefix = False\n",
    "        self.prefix = prefix\n",
    "        self.text = text\n",
    "        \n",
    "    def __str__(self):\n",
    "        return '({}\\t{}\\t{})'.format(str(self.show_prefix), self.prefix, self.text)\n",
    "    \n",
    "    __repr__ = __str__\n",
    "        \n",
    "class Sentences:\n",
    "    def __init__(self,text):\n",
    "        self.sentences = self._assign_turns(text)\n",
    "        #print (self.turns)\n",
    "        \n",
    "    def _split_turns(self, text):\n",
    "        global get_accents\n",
    "        tags = set(re.findall('.\\\\\\\\', text))\n",
    "        for i in tags:\n",
    "            text = text.replace(i, get_accents[i])\n",
    "        text = re.sub('\\[','\\n[',text)\n",
    "        text = re.sub('[^:]\\]',']\\n',text)\n",
    "        text = re.sub('[ ]*?\\n','\\n',text)\n",
    "        text = re.sub('\\n[ \\n]*','\\n',text).strip()\n",
    "        text = text.split('\\n')\n",
    "        return text\n",
    "    \n",
    "    def _assign_turns(self,text):\n",
    "        text = self._split_turns(text)\n",
    "        prefixes = []\n",
    "        result = []\n",
    "        for i in text:\n",
    "            r = re.findall('\\[.*?\\]', i)\n",
    "            if len(r) > 0:\n",
    "                if re.match('^\\[[A-ZА-Я-0-9]{1,5}:\\]$', r[0]):\n",
    "                    prefixes.append(r[0])\n",
    "                    sentences = sent_tokenize(i.replace(r[0], '').strip())\n",
    "                    result.append(OneSentence(sentences[0], prefixes[-1]))\n",
    "                    result[-1].show_prefix = True\n",
    "                    for x in sentences[1:]:\n",
    "                        result.append(OneSentence(x, prefixes[-1]))\n",
    "                else:\n",
    "                    result.append(OneSentence(r[0], ''))\n",
    "            else:\n",
    "                sentences = sent_tokenize(i.strip())\n",
    "                result.append(OneSentence(sentences[0], prefixes[-1]))\n",
    "                result[-1].show_prefix = True\n",
    "                for x in sentences[1:]:\n",
    "                    result.append(OneSentence(x, prefixes[-1]))\n",
    "        return result\n",
    "    \n",
    "    def __str__(self):\n",
    "        return '\\n\\n'.join([str(i) for i in self.sentences])\n",
    "    \n",
    "    __repr__ = __str__"
   ]
  },
  {
   "cell_type": "code",
   "execution_count": 5,
   "metadata": {},
   "outputs": [
    {
     "ename": "SyntaxError",
     "evalue": "invalid syntax (<ipython-input-5-f19f4878dc41>, line 25)",
     "output_type": "error",
     "traceback": [
      "\u001b[0;36m  File \u001b[0;32m\"<ipython-input-5-f19f4878dc41>\"\u001b[0;36m, line \u001b[0;32m25\u001b[0m\n\u001b[0;31m    def _\u001b[0m\n\u001b[0m         ^\u001b[0m\n\u001b[0;31mSyntaxError\u001b[0m\u001b[0;31m:\u001b[0m invalid syntax\n"
     ]
    }
   ],
   "source": [
    "class TaggedSentences:\n",
    "    \n",
    "    def __init__(self, sentences, informators, city):\n",
    "        self.sentences = sentences\n",
    "        self.meta = self._get_inform(informators, city)\n",
    "        \n",
    "    def _norm_v(self, text):\n",
    "        global accents\n",
    "        k = [i['text'] for i in m.analyze(text)]\n",
    "        r = ['empty']\n",
    "        for i in k:\n",
    "            if '%' not in i:\n",
    "                if r[-1][-1] != '%':\n",
    "                    r += [i]\n",
    "                else:\n",
    "                    r[-1]+=i\n",
    "            else:\n",
    "                r[-1]+='%'\n",
    "                if i != '%':\n",
    "                    r += [i.replace('%','')] \n",
    "        norm = ''.join(r[1:]).replace('у%','в').replace('У%','В')\n",
    "        for i in accents:\n",
    "            norm = norm.replace(i, accents[i])\n",
    "        return r[1:], m.analyze(norm)\n",
    "    \n",
    "    def _get_inform(self, informators, city):\n",
    "        global cur\n",
    "        informators = [i.strip() for i in informators.split(',')]\n",
    "        meta = {}\n",
    "        for i in informators:\n",
    "            "
   ]
  },
  {
   "cell_type": "code",
   "execution_count": 10,
   "metadata": {},
   "outputs": [],
   "source": [
    "def _get_inform(informators, city):\n",
    "        global cur\n",
    "        informators = [i.strip() for i in informators.split(',')]\n",
    "        meta = {}\n",
    "        city = city.split(',')[-1].strip()\n",
    "        for i in informators:\n",
    "            cur.execute('SELECT id, code, birthplace, birthyear, gender FROM Informators WHERE\\\n",
    "            code=\\\"{}\\\" AND city=\\\"{}\\\"'.format(i, city))\n",
    "            print (cur.fetchall())"
   ]
  },
  {
   "cell_type": "code",
   "execution_count": 15,
   "metadata": {},
   "outputs": [],
   "source": [
    "cur.execute('SELECT informants, city from Texts')\n",
    "data = cur.fetchall()"
   ]
  },
  {
   "cell_type": "code",
   "execution_count": null,
   "metadata": {},
   "outputs": [],
   "source": [
    "for i in data:\n",
    "    _get_inform(*i)"
   ]
  },
  {
   "cell_type": "code",
   "execution_count": null,
   "metadata": {},
   "outputs": [],
   "source": []
  },
  {
   "cell_type": "code",
   "execution_count": 65,
   "metadata": {},
   "outputs": [],
   "source": [
    "def norm_v(text):\n",
    "        global accents\n",
    "        k = [i['text'] for i in m.analyze(text)]\n",
    "        r = ['empty']\n",
    "        for i in k:\n",
    "            if '%' not in i:\n",
    "                if r[-1][-1] != '%':\n",
    "                    r += [i]\n",
    "                else:\n",
    "                    r[-1]+=i\n",
    "            else:\n",
    "                r[-1]+='%'\n",
    "                if i != '%':\n",
    "                    r += [i.replace('%','')] \n",
    "        norm = ''.join(r[1:]).replace('у%','в').replace('У%','В')\n",
    "        for i in accents:\n",
    "            norm = norm.replace(i, accents[i])\n",
    "        return r[1:], m.analyze(norm)"
   ]
  },
  {
   "cell_type": "code",
   "execution_count": 229,
   "metadata": {},
   "outputs": [
    {
     "data": {
      "text/plain": [
       "(['У%',\n",
       "  ' ',\n",
       "  'Я́',\n",
       "  ' ',\n",
       "  'цветоу%ок',\n",
       "  ' ',\n",
       "  'не',\n",
       "  ' ',\n",
       "  'брал',\n",
       "  ' ',\n",
       "  'и',\n",
       "  ' ',\n",
       "  'цвето́у%',\n",
       "  '\\n'],\n",
       " [{'analysis': [{'lex': 'в',\n",
       "     'wt': 8.212235587e-06,\n",
       "     'gr': 'S,abbr=(abl,pl|abl,sg|acc,pl|acc,sg|dat,pl|dat,sg|gen,pl|gen,sg|ins,pl|ins,sg|nom,pl|nom,sg)'}],\n",
       "   'text': 'В'},\n",
       "  {'text': ' '},\n",
       "  {'analysis': [{'lex': 'я',\n",
       "     'wt': 2.837188476e-05,\n",
       "     'gr': 'S,abbr=(abl,pl|abl,sg|acc,pl|acc,sg|dat,pl|dat,sg|gen,pl|gen,sg|ins,pl|ins,sg|nom,pl|nom,sg)'}],\n",
       "   'text': 'Я'},\n",
       "  {'text': ' '},\n",
       "  {'analysis': [{'lex': 'цветовка',\n",
       "     'wt': 1,\n",
       "     'qual': 'bastard',\n",
       "     'gr': 'S,geo,f,inan=gen,pl'}],\n",
       "   'text': 'цветовок'},\n",
       "  {'text': ' '},\n",
       "  {'analysis': [{'lex': 'не', 'wt': 1, 'gr': 'PART='}], 'text': 'не'},\n",
       "  {'text': ' '},\n",
       "  {'analysis': [{'lex': 'брать',\n",
       "     'wt': 1,\n",
       "     'gr': 'V,ipf,tran=praet,sg,indic,m'}],\n",
       "   'text': 'брал'},\n",
       "  {'text': ' '},\n",
       "  {'analysis': [{'lex': 'и', 'wt': 0.9999770357, 'gr': 'CONJ='}], 'text': 'и'},\n",
       "  {'text': ' '},\n",
       "  {'analysis': [{'lex': 'цветок', 'wt': 0.777675558, 'gr': 'S,m,inan=gen,pl'}],\n",
       "   'text': 'цветов'},\n",
       "  {'text': '\\n'}])"
      ]
     },
     "execution_count": 229,
     "metadata": {},
     "output_type": "execute_result"
    }
   ],
   "source": [
    "a = 'У% Я́ цветоу%ок не брал и цвето́у%'\n",
    "norm_v(a)"
   ]
  },
  {
   "cell_type": "code",
   "execution_count": 181,
   "metadata": {},
   "outputs": [],
   "source": [
    "from nltk.tokenize import sent_tokenize"
   ]
  },
  {
   "cell_type": "code",
   "execution_count": 210,
   "metadata": {},
   "outputs": [
    {
     "data": {
      "text/plain": [
       "(False\t\t[Вы вчера рассказывали историю с цветами, что это было])\n",
       "\n",
       "(True\t[А:]\tНу, э́то как бы э… не зна́ю, и́ли приме́та и́ли… ну, что-то… вот когда́ моего́ дя́дю хорони́ли э… то́же, ну, кода́ хорони́ли его́, хоте́ли то́же цветы́ положи́ть и́ли что-то хоте́ли положи́ть туда́, вро́де, цветы́, она́ стро́го запрети́ла, ну там, же́нщина, кото́рая всё по э́тим, по похорона́м от, она́ сказа́ла: «Стро́го нельзя́».)\n",
       "\n",
       "(False\t[А:]\tНу, ти́па, ско́ка положи́ли тогда́, ну, в про́шлый раз там что-то, в моги́лу цвето́у%, сто… че́рез сто́ка дней ро́дственник у́мер и́ли чт… ну, коро́че, что-то тако́е, и́ли когда́ цветы́ завя́ли, ро́дственник у́мер, что-то…)\n",
       "\n",
       "(False\t\t[Соб.: Ты что-то рассказывал, что она букет кинула в гроб])\n",
       "\n",
       "(True\t[А:]\tНу да, э́то вон, Гри́ша, да.)\n",
       "\n",
       "(False\t\t[Соб.: А, Гриша])\n",
       "\n",
       "(True\t[Г:]\tЯ расска́зывал от что, ну, они́ сказа́ли то, что кода́ она́ ски́нула, ско́ка, то́ ли де́вять цвето́в, ну, в моги́лу получа́ется кода́... все песо́к кида́ли, а она́ цветы́ ски́нула.)\n",
       "\n",
       "(False\t[Г:]\tИ по́сле э́того у нас, ну, начало́сь, вот э́ти де́вять пацано́в у́мерло.)\n",
       "\n",
       "(False\t[Г:]\tИ́ менно вот из-за э́того.)\n",
       "\n",
       "(False\t[Г:]\tГоворя́т то, что и́менно из-за э́того, то что…)"
      ]
     },
     "execution_count": 210,
     "metadata": {},
     "output_type": "execute_result"
    }
   ],
   "source": [
    "A = Sentences(a)\n",
    "A"
   ]
  },
  {
   "cell_type": "code",
   "execution_count": 213,
   "metadata": {},
   "outputs": [],
   "source": [
    "text = A.sentences[2].text"
   ]
  },
  {
   "cell_type": "code",
   "execution_count": null,
   "metadata": {},
   "outputs": [],
   "source": [
    "m.analyze"
   ]
  },
  {
   "cell_type": "code",
   "execution_count": 133,
   "metadata": {},
   "outputs": [],
   "source": [
    "def no_stress(text):\n",
    "    text = text.replace('\\\\', '')\n",
    "    return text\n",
    "\n",
    "def split_sentences(text):\n",
    "    text = text.replace('[', '\\n[')\n",
    "    text = re.sub('\\n{2,}','\\n')\n",
    "    text = text.split('\\n')\n",
    "    text = [sent_tokenize(chunk) for chunk in text]\n",
    "    return text"
   ]
  },
  {
   "cell_type": "code",
   "execution_count": null,
   "metadata": {},
   "outputs": [],
   "source": [
    "def get_meta(code):\n",
    "    cur.execute('SELECT id, gender, birthyear FROM Informants WHERE code=\\\"{}\\\"'.format(code))\n",
    "    indiv = cur.fetchone()\n",
    "    return {'id':indiv[0], 'gender':indiv[1], 'year':indiv[2]}\n",
    "\n",
    "def get_col_id(code):\n",
    "    cur.execute('SELECT id FROM Collectors WHERE code=\\\"{}\\\"'.format(code))\n",
    "    indiv = cur.fetchone()\n",
    "    return indiv[0]\n",
    "\n",
    "def joint_meta(informants, collectors):\n",
    "    informants = informants.split(',')\n",
    "    result = {'inf':{}, 'col':{}}\n",
    "    for i in informants:\n",
    "        result['inf'][i.strip()] = get_meta(code)\n",
    "    for i in collectors:\n",
    "        result['col'][i.strip()] = get_col_id(code)"
   ]
  },
  {
   "cell_type": "code",
   "execution_count": null,
   "metadata": {},
   "outputs": [],
   "source": [
    "def join_text(text, sentence):\n",
    "    text = text\n",
    "    for word in words:\n",
    "            if 'wf' not in word:\n",
    "                continue\n",
    "            word['off_start'] = len(text)\n",
    "            if word['wtype'] == 'word':\n",
    "                text += word['wf'] + ' '\n",
    "                word['off_end'] = len(text) - 1\n",
    "            else:\n",
    "                if word['wf'].startswith(('(', '[', '{', '<', '“')):\n",
    "                    text += word['wf']\n",
    "                    word['off_end'] = len(text)\n",
    "                elif word['wf'].startswith((')', ']', '}', '>', '.', ',', '?', '!', '”', '…')):\n",
    "                    if text.endswith(' '):\n",
    "                        word['off_start'] -= 1\n",
    "                        text = text[:-1]\n",
    "                    text += word['wf'] + ' '\n",
    "                    word['off_end'] = len(text) - 1\n",
    "                else:\n",
    "                    text += word['wf'] + ' '\n",
    "                    word['off_end'] = len(text) - 1\n",
    "        return text.strip()"
   ]
  },
  {
   "cell_type": "code",
   "execution_count": null,
   "metadata": {},
   "outputs": [],
   "source": [
    "def ana(analysis):\n",
    "    global tags\n",
    "    result = {}\n",
    "    for i in analysis:\n",
    "        if i in tags:\n",
    "            result[tags[i]] = i\n",
    "    return result"
   ]
  },
  {
   "cell_type": "code",
   "execution_count": null,
   "metadata": {},
   "outputs": [],
   "source": [
    "def tokens(parsed):\n",
    "    result = []\n",
    "    for i in parsed:\n",
    "        if 'analysis' in i:\n",
    "            r = {}\n",
    "            r['wf'] = i['text']\n",
    "            r['wtype'] = i['word']\n",
    "            r['ana'] = []\n",
    "            for var in i['analysis']:\n",
    "                r['ana'].append(ana(var))\n",
    "    return result"
   ]
  },
  {
   "cell_type": "code",
   "execution_count": null,
   "metadata": {},
   "outputs": [],
   "source": [
    "def parse_sentence(sentence, meta):\n",
    "    result = {'meta':{}, 'words':[]}\n",
    "    if not re.match('^\\[.*?\\]$', sentence):\n",
    "        sentence = sentence.split(']')\n",
    "        sentence[0] = sentence[0]+']'\n",
    "        parsed = tokens(m.analyze(sentence[1]))\n",
    "    else:\n",
    "        parsed = tokens(m.analyze(sentence))\n",
    "    "
   ]
  },
  {
   "cell_type": "markdown",
   "metadata": {},
   "source": [
    "# Block 2"
   ]
  },
  {
   "cell_type": "markdown",
   "metadata": {},
   "source": [
    "Informators"
   ]
  },
  {
   "cell_type": "code",
   "execution_count": 191,
   "metadata": {},
   "outputs": [],
   "source": [
    "df = pd.read_csv('./raw_data/Список файлов - Лист1.csv') "
   ]
  },
  {
   "cell_type": "code",
   "execution_count": 192,
   "metadata": {},
   "outputs": [
    {
     "data": {
      "text/plain": [
       "Index(['Имя файла', 'Жанр', 'Ссылка на текстовый файл', 'Ссылка на аудио файл',\n",
       "       'Деревня', 'ФИО', 'Год рождения', 'Место рождения',\n",
       "       'Место записи (адрес, координаты, etc.)', 'ФИ собирателей',\n",
       "       'Unnamed: 10', 'Unnamed: 11', 'Unnamed: 12'],\n",
       "      dtype='object')"
      ]
     },
     "execution_count": 192,
     "metadata": {},
     "output_type": "execute_result"
    }
   ],
   "source": [
    "df.columns"
   ]
  },
  {
   "cell_type": "code",
   "execution_count": 193,
   "metadata": {},
   "outputs": [
    {
     "data": {
      "text/html": [
       "<div>\n",
       "<style scoped>\n",
       "    .dataframe tbody tr th:only-of-type {\n",
       "        vertical-align: middle;\n",
       "    }\n",
       "\n",
       "    .dataframe tbody tr th {\n",
       "        vertical-align: top;\n",
       "    }\n",
       "\n",
       "    .dataframe thead th {\n",
       "        text-align: right;\n",
       "    }\n",
       "</style>\n",
       "<table border=\"1\" class=\"dataframe\">\n",
       "  <thead>\n",
       "    <tr style=\"text-align: right;\">\n",
       "      <th></th>\n",
       "      <th>Имя файла</th>\n",
       "      <th>Жанр</th>\n",
       "      <th>Ссылка на текстовый файл</th>\n",
       "      <th>Ссылка на аудио файл</th>\n",
       "      <th>Деревня</th>\n",
       "      <th>ФИО</th>\n",
       "      <th>Год рождения</th>\n",
       "      <th>Место рождения</th>\n",
       "      <th>Место записи (адрес, координаты, etc.)</th>\n",
       "      <th>ФИ собирателей</th>\n",
       "      <th>Unnamed: 10</th>\n",
       "      <th>Unnamed: 11</th>\n",
       "      <th>Unnamed: 12</th>\n",
       "    </tr>\n",
       "  </thead>\n",
       "  <tbody>\n",
       "    <tr>\n",
       "      <th>0</th>\n",
       "      <td>Архив ВШЭ-ФЭ-69-14-2017-1</td>\n",
       "      <td>Сведения об игре на гармони</td>\n",
       "      <td>https://github.com/expokimry17/texts/blob/mast...</td>\n",
       "      <td>NaN</td>\n",
       "      <td>пос.Белый городок</td>\n",
       "      <td>Кочнев Виктор Алексеевич</td>\n",
       "      <td>1934</td>\n",
       "      <td>Калязинский район</td>\n",
       "      <td>пос. Белый городок, ул. Заводская д. 5</td>\n",
       "      <td>Надежда Григорьева, Аня Копаева</td>\n",
       "      <td>NaN</td>\n",
       "      <td>NaN</td>\n",
       "      <td>NaN</td>\n",
       "    </tr>\n",
       "    <tr>\n",
       "      <th>1</th>\n",
       "      <td>Архив ВШЭ-ФЭ-69-14-2017-2</td>\n",
       "      <td>Молодежные посиделки</td>\n",
       "      <td>https://github.com/expokimry17/texts/blob/mast...</td>\n",
       "      <td>NaN</td>\n",
       "      <td>пос.Белый городок</td>\n",
       "      <td>Кочнев Виктор Алексеевич</td>\n",
       "      <td>1934</td>\n",
       "      <td>Калязинский район</td>\n",
       "      <td>пос. Белый городок, ул. Заводская д. 5</td>\n",
       "      <td>Надежда Григорьева, Аня Копаева</td>\n",
       "      <td>NaN</td>\n",
       "      <td>NaN</td>\n",
       "      <td>NaN</td>\n",
       "    </tr>\n",
       "    <tr>\n",
       "      <th>2</th>\n",
       "      <td>Архив ВШЭ-ФЭ-69-14-2017-3</td>\n",
       "      <td>Сведения о песнях, танцах, репертуаре на молод...</td>\n",
       "      <td>https://github.com/expokimry17/texts/blob/mast...</td>\n",
       "      <td>NaN</td>\n",
       "      <td>пос.Белый городок</td>\n",
       "      <td>Кочнев Виктор Алексеевич</td>\n",
       "      <td>1934</td>\n",
       "      <td>Калязинский район</td>\n",
       "      <td>пос. Белый городок, ул. Заводская д. 5</td>\n",
       "      <td>Надежда Григорьева, Аня Копаева</td>\n",
       "      <td>NaN</td>\n",
       "      <td>NaN</td>\n",
       "      <td>NaN</td>\n",
       "    </tr>\n",
       "  </tbody>\n",
       "</table>\n",
       "</div>"
      ],
      "text/plain": [
       "                   Имя файла  \\\n",
       "0  Архив ВШЭ-ФЭ-69-14-2017-1   \n",
       "1  Архив ВШЭ-ФЭ-69-14-2017-2   \n",
       "2  Архив ВШЭ-ФЭ-69-14-2017-3   \n",
       "\n",
       "                                                Жанр  \\\n",
       "0                        Сведения об игре на гармони   \n",
       "1                               Молодежные посиделки   \n",
       "2  Сведения о песнях, танцах, репертуаре на молод...   \n",
       "\n",
       "                            Ссылка на текстовый файл Ссылка на аудио файл  \\\n",
       "0  https://github.com/expokimry17/texts/blob/mast...                  NaN   \n",
       "1  https://github.com/expokimry17/texts/blob/mast...                  NaN   \n",
       "2  https://github.com/expokimry17/texts/blob/mast...                  NaN   \n",
       "\n",
       "             Деревня                       ФИО Год рождения  \\\n",
       "0  пос.Белый городок  Кочнев Виктор Алексеевич         1934   \n",
       "1  пос.Белый городок  Кочнев Виктор Алексеевич         1934   \n",
       "2  пос.Белый городок  Кочнев Виктор Алексеевич         1934   \n",
       "\n",
       "      Место рождения  Место записи (адрес, координаты, etc.)  \\\n",
       "0  Калязинский район  пос. Белый городок, ул. Заводская д. 5   \n",
       "1  Калязинский район  пос. Белый городок, ул. Заводская д. 5   \n",
       "2  Калязинский район  пос. Белый городок, ул. Заводская д. 5   \n",
       "\n",
       "                    ФИ собирателей Unnamed: 10  Unnamed: 11 Unnamed: 12  \n",
       "0  Надежда Григорьева, Аня Копаева         NaN          NaN         NaN  \n",
       "1  Надежда Григорьева, Аня Копаева         NaN          NaN         NaN  \n",
       "2  Надежда Григорьева, Аня Копаева         NaN          NaN         NaN  "
      ]
     },
     "execution_count": 193,
     "metadata": {},
     "output_type": "execute_result"
    }
   ],
   "source": [
    "df.head(3)"
   ]
  },
  {
   "cell_type": "code",
   "execution_count": null,
   "metadata": {},
   "outputs": [],
   "source": [
    "set(df['ФИ собирателей'].values)"
   ]
  },
  {
   "cell_type": "code",
   "execution_count": 211,
   "metadata": {},
   "outputs": [],
   "source": [
    "def collectors(names):\n",
    "    w = names.split(', ')\n",
    "    w = [''.join(c for c in i if c.isupper()) for i in w]\n",
    "    w = [i[-1]+i[:-1] if i != 'ХТ' else i for i in w ]\n",
    "    return ', '.join(w)"
   ]
  },
  {
   "cell_type": "code",
   "execution_count": 212,
   "metadata": {},
   "outputs": [
    {
     "name": "stdout",
     "output_type": "stream",
     "text": [
      "ДВЕ, КМ, ХТ\n",
      "ГН, КА\n",
      "ХТ\n",
      "КЛ, ДВ, ГН\n",
      "КЮМ, ХТ\n",
      "ТО, КМ, МТ\n",
      "ДВ\n",
      "КЮМ, ГН, КЛ, ДВ\n",
      "ХТ\n",
      "КЮМ, ДВ\n",
      "ТО, МТ\n",
      "КЮМ\n",
      "КМ, ХТ\n"
     ]
    }
   ],
   "source": [
    "for i in set(df['ФИ собирателей'].values):\n",
    "    print (collectors(i))"
   ]
  },
  {
   "cell_type": "markdown",
   "metadata": {},
   "source": [
    "Informants"
   ]
  },
  {
   "cell_type": "code",
   "execution_count": 197,
   "metadata": {},
   "outputs": [],
   "source": [
    "inf = df[['ФИО', 'Деревня','Год рождения', 'Место рождения']].drop_duplicates(['ФИО'])"
   ]
  },
  {
   "cell_type": "code",
   "execution_count": 51,
   "metadata": {},
   "outputs": [],
   "source": [
    "for i in range(len(inf)):\n",
    "    d = inf.iloc[i]\n",
    "    if ',' not in d['ФИО']:\n",
    "        s = 'INSERT INTO Informators (name, city, birthplace, birthyear) \\\n",
    "        VALUES (\\\"{}\\\",\\\"{}\\\",\\\"{}\\\",\\\"{}\\\")'.format(\n",
    "        d['ФИО'], d['Деревня'], d['Место рождения'], d['Год рождения'])\n",
    "        cur.execute(s)"
   ]
  },
  {
   "cell_type": "code",
   "execution_count": 52,
   "metadata": {},
   "outputs": [],
   "source": [
    "con.commit()"
   ]
  },
  {
   "cell_type": "markdown",
   "metadata": {},
   "source": [
    "Texts"
   ]
  },
  {
   "cell_type": "code",
   "execution_count": 11,
   "metadata": {},
   "outputs": [],
   "source": [
    "import os"
   ]
  },
  {
   "cell_type": "code",
   "execution_count": 13,
   "metadata": {},
   "outputs": [
    {
     "data": {
      "text/plain": [
       "False"
      ]
     },
     "execution_count": 13,
     "metadata": {},
     "output_type": "execute_result"
    }
   ],
   "source": [
    "os.path.exists('./raw_data/texts/Архив ВШЭ-ФЭ-69-14-2017-1')"
   ]
  },
  {
   "cell_type": "code",
   "execution_count": 146,
   "metadata": {},
   "outputs": [],
   "source": [
    "def get_text(name):\n",
    "    name = './raw_data/texts/{}'.format(name)\n",
    "    if not os.path.exists(name): name = name + '.txt'\n",
    "    try: \n",
    "        with open (name, 'r', encoding='utf-8') as f:\n",
    "            return [i for i in f.read().strip().split('\\n') if i != '']\n",
    "    except UnicodeDecodeError:\n",
    "        with open (name, 'r', encoding='cp1251') as f:\n",
    "            return [i for i in f.read().strip().split('\\n') if i != '']"
   ]
  },
  {
   "cell_type": "code",
   "execution_count": 236,
   "metadata": {},
   "outputs": [
    {
     "data": {
      "text/plain": [
       "['С2: А что за игры?',\n",
       " 'ВА: Ну игры, так вот.. Значит, девушка садится, берёт полотенце, вот значит, а парень, вот значит, вот так вот.. ну чуть.. под 90 градусов наклоняется, а девушка ему глаза вот так вот заты- зажмуривает полотенцем, да? кладёшь руку на пояницу, вот себе на спину, ну и по ней кто-то бьёт ладонью по ладони по его. А он должен угадать. Если он сразу угадал, значит, отделался, а если он не угадывает, ему так руку набьют.. ой-ой-ой. Вот такая вот.',\n",
       " 'С1: А как эта игра называлась?',\n",
       " 'ВА: А это назывался «Овёс».',\n",
       " 'С2: Как?',\n",
       " 'ВА: \"Овёс\". Игра в \"Овёс\".',\n",
       " 'С1: А почему \"Овёс\"?',\n",
       " 'ВА: А если.. вот когда.. хто долго не угадывает, дак «Ну, всё, – говрит, – вдоль овса пошёл, вдоль поля». Всё, да, ему руку так наколотят, что.. да, но вот так.',\n",
       " 'С1: А ещё во что играли?',\n",
       " 'ВА: Что сейчас?',\n",
       " 'С1: Нет, тогда, на поседках, во что ещё играли? Игры какие.']"
      ]
     },
     "execution_count": 236,
     "metadata": {},
     "output_type": "execute_result"
    }
   ],
   "source": [
    "get_text('Архив ВШЭ-ФЭ-69-14-2017-9')"
   ]
  },
  {
   "cell_type": "code",
   "execution_count": 47,
   "metadata": {},
   "outputs": [],
   "source": [
    "def normalize_view(text_array, informants:list):\n",
    "    inf = {i:i for i in informants}\n",
    "    copy = informants\n",
    "    informants = {}\n",
    "    informants.update({i[-2]:i for i in inf})\n",
    "    informants.update({i[-2:]:i for i in inf})\n",
    "    informants.update({i:i for i in inf})\n",
    "    #if copy == ['ОРА']: informants = {'РА':'ОГА'}\n",
    "    #print (informants)\n",
    "    result = []\n",
    "    for i in text_array:\n",
    "        if re.match('^[CС0-9, -]{1,7}:.*?$', i):\n",
    "            result.append('[{}]'.format(i))\n",
    "            #print ('[{}]'.format(i))\n",
    "        else:\n",
    "            r = re.findall('^([А-Яа-яA-Za-z0-9-, ]{1,7}):(.*?$)',i)\n",
    "            if r:\n",
    "                    prefix, text = r[0]\n",
    "                    prefix = ''.join(c for c in prefix if c.isupper() or c.isdigit() or c in ', ')\n",
    "                    try:\n",
    "                        result.append('[{}:]{}'.format(informants[prefix], text)) \n",
    "                    except KeyError:\n",
    "                        result.append('[{}:]{}'.format(prefix, text)) \n",
    "            else:\n",
    "                try:\n",
    "                    result[-1] = result[-1] + ' ' + i\n",
    "                except:\n",
    "                    result.append(i)\n",
    "    result = '\\n'.join(result)\n",
    "    result = result.replace('«','\"').replace('»','\"')\n",
    "    return result"
   ]
  },
  {
   "cell_type": "code",
   "execution_count": 85,
   "metadata": {},
   "outputs": [
    {
     "name": "stdout",
     "output_type": "stream",
     "text": [
      "[С2: А как поседки проходили? Что делали?]\n",
      "[КВА:] Поседки, раньше поседки.. каждая девушка, она должна справить в своём дому вечер. Пускали, молодёжь собирается, ну и на поседках всё там: и танцуют, и пляшут, и песни поют, вот, было такое развлечение в деревне.\n",
      "[С2: А где это устраивали? У кого-то дома или общее место?]\n",
      "[КВА:] А по очереди. Каждая девка должна свою очередь соблюдать.\n",
      "[С1: А это с какого возраста? А это с какого возраста они должны поседки устраивать?]\n",
      "[КВА:] Ну какие..ну вот какие вот.. уже как начинают загуливать молодёжь, вот так уже да.\n",
      "[С1: А во сколько начинали в ваше время?]\n",
      "[КВА:] Ну.. до этого, до армии, тут поседки, они и были, но были старше нас парни, ещё мы там не могли участвовать, только соберёмся посмотреть из заду, в доме там у двери стоим и перенимаем, что старшие братья?, как провожают время. Вот. Потом они уже там начинают всё.. уж там замуж выходят, женятся, туды-сюды, вот, мы замена потом пошли, вот так оно и идёт-идёт-идёт.\n",
      "[С2: То есть, только после армии можно было ходить, да?]\n",
      "[КВА:] Вот, после армии да, опять, эти поседки так они там и были, продолжались, и я участвовал в них, и в чужие деревни ходили на поседки. Где молодёжь собиралась в домах. Вот.\n"
     ]
    }
   ],
   "source": [
    "print(normalize_view(array, ['КВА']))"
   ]
  },
  {
   "cell_type": "code",
   "execution_count": 199,
   "metadata": {},
   "outputs": [],
   "source": [
    "data = df[['Имя файла','ФИО']].values"
   ]
  },
  {
   "cell_type": "code",
   "execution_count": 92,
   "metadata": {},
   "outputs": [],
   "source": [
    "from IPython.display import clear_output\n",
    "import time"
   ]
  },
  {
   "cell_type": "code",
   "execution_count": 95,
   "metadata": {},
   "outputs": [
    {
     "data": {
      "text/plain": [
       "(495, 2)"
      ]
     },
     "execution_count": 95,
     "metadata": {},
     "output_type": "execute_result"
    }
   ],
   "source": [
    "data.shape"
   ]
  },
  {
   "cell_type": "code",
   "execution_count": null,
   "metadata": {},
   "outputs": [],
   "source": [
    "re.findall('(().*?')"
   ]
  },
  {
   "cell_type": "code",
   "execution_count": null,
   "metadata": {},
   "outputs": [],
   "source": [
    "for i in data[100:]:\n",
    "    print (i)\n",
    "    array = get_text(i[0])\n",
    "    informators = ''.join(c for c in i[1] if c.isupper() or c in ',').split(',')\n",
    "    print(normalize_view(array, informators))\n",
    "    time.sleep(2)\n",
    "    clear_output()"
   ]
  },
  {
   "cell_type": "code",
   "execution_count": 247,
   "metadata": {},
   "outputs": [],
   "source": [
    "for i in range(len(df)):\n",
    "    old_id = df.iloc[i]['Имя файла']\n",
    "    print (old_id)\n",
    "    title = str(df.iloc[i]['Жанр']).replace('\"','\"\"')\n",
    "    informators = ''.join(c for c in df.iloc[i]['ФИО'] if c.isupper() or c in ',').replace(',',', ')\n",
    "    collector = collectors(df.iloc[i]['ФИ собирателей'])\n",
    "    city = df.iloc[i]['Деревня']\n",
    "    address = df.iloc[i]['Место записи (адрес, координаты, etc.)']\n",
    "    array = get_text(df.iloc[i]['Имя файла'])\n",
    "    text = normalize_view(array, informators.split(', ')).replace('\"','\"\"')\n",
    "    \n",
    "    query = 'INSERT INTO Texts (old_id, title, informants, collectors, city, address, raw_text, year)\\\n",
    "    VALUES (\\\"{}\\\",\\\"{}\\\",\\\"{}\\\",\\\"{}\\\",\\\"{}\\\",\\\"{}\\\",\\\"{}\\\",{})'.format(\n",
    "        old_id, title, informators, collector, city, address, text, 2017)\n",
    "    #print (query)\n",
    "    print (query)\n",
    "    cur.execute(query)\n",
    "    clear_output()\n",
    "    #print (old_id, '\\n', title, '\\n', informators, '\\n', collector, '\\n', city, '\\n', address, '\\n', text[:200],'\\n')\n",
    "\n",
    "con.commit()"
   ]
  },
  {
   "cell_type": "markdown",
   "metadata": {},
   "source": [
    "# Block 1 + 2 (finish)"
   ]
  },
  {
   "cell_type": "markdown",
   "metadata": {},
   "source": [
    "Informators'gender"
   ]
  },
  {
   "cell_type": "code",
   "execution_count": 92,
   "metadata": {},
   "outputs": [],
   "source": [
    "def g_name(name):\n",
    "    global m\n",
    "    res = m.analyze(name)\n",
    "    fem, mal = 0, 0\n",
    "    if len(res) == 6:\n",
    "        res = res[2:]\n",
    "    for i in res:\n",
    "        if 'analysis' in i:\n",
    "            #print (i['analysis'])\n",
    "            if ',f,' in i['analysis'][0]['gr']:\n",
    "                fem += 1\n",
    "            elif ',m,' in i['analysis'][0]['gr']:\n",
    "                mal += 1\n",
    "    if fem > 0 and mal == 0:\n",
    "        return 'f'\n",
    "    elif fem == 0 and mal > 0:\n",
    "        return 'm'\n",
    "    else:\n",
    "        return None"
   ]
  },
  {
   "cell_type": "code",
   "execution_count": 75,
   "metadata": {},
   "outputs": [
    {
     "data": {
      "text/plain": [
       "<sqlite3.Cursor at 0x7fed28109d50>"
      ]
     },
     "execution_count": 75,
     "metadata": {},
     "output_type": "execute_result"
    }
   ],
   "source": [
    "cur.execute('SELECT id, name FROM Informators')"
   ]
  },
  {
   "cell_type": "code",
   "execution_count": 76,
   "metadata": {},
   "outputs": [],
   "source": [
    "inf = cur.fetchall()"
   ]
  },
  {
   "cell_type": "code",
   "execution_count": 98,
   "metadata": {},
   "outputs": [],
   "source": [
    "for i in inf:\n",
    "    cur.execute('UPDATE Informators  SET gender = ? WHERE id = ?', (g_name(i[1]), i[0]))\n",
    "    #print (i[1], g_name(i[1]))"
   ]
  },
  {
   "cell_type": "code",
   "execution_count": 99,
   "metadata": {},
   "outputs": [],
   "source": [
    "con.commit()"
   ]
  },
  {
   "cell_type": "code",
   "execution_count": 91,
   "metadata": {},
   "outputs": [
    {
     "data": {
      "text/plain": [
       "[{'analysis': [{'lex': 'собольков',\n",
       "    'wt': 0.5946199918,\n",
       "    'qual': 'bastard',\n",
       "    'gr': 'S,famn,m,anim=(acc,sg|gen,sg)'}],\n",
       "  'text': 'Соболькова'},\n",
       " {'text': ' '},\n",
       " {'analysis': [{'lex': 'зоя', 'wt': 1, 'gr': 'S,persn,f,anim=nom,sg'}],\n",
       "  'text': 'Зоя'},\n",
       " {'text': ' '},\n",
       " {'analysis': [{'lex': 'тимофеевна', 'wt': 1, 'gr': 'S,patrn,f,anim=nom,sg'}],\n",
       "  'text': 'Тимофеевна'},\n",
       " {'text': '\\n'}]"
      ]
     },
     "execution_count": 91,
     "metadata": {},
     "output_type": "execute_result"
    }
   ],
   "source": [
    "m.analyze('Соболькова Зоя Тимофеевна')"
   ]
  },
  {
   "cell_type": "markdown",
   "metadata": {},
   "source": [
    "Birthyear(block 1)"
   ]
  },
  {
   "cell_type": "code",
   "execution_count": 250,
   "metadata": {},
   "outputs": [],
   "source": [
    "cur.execute('SELECT id, bio FROM Informators WHERE old_id < 5000')\n",
    "data = cur.fetchall()"
   ]
  },
  {
   "cell_type": "code",
   "execution_count": 259,
   "metadata": {},
   "outputs": [],
   "source": [
    "for i in data:\n",
    "    date = re.findall('([0-9]{4}) г..?р.',i[1])\n",
    "    if date != []:\n",
    "        cur.execute('UPDATE Informators SET birthyear=? WHERE id=?', (date[0], i[0]))\n",
    "    #print (i[0], '\\t', date, '\\t', i[1][:20])"
   ]
  },
  {
   "cell_type": "code",
   "execution_count": 260,
   "metadata": {},
   "outputs": [],
   "source": [
    "con.commit()"
   ]
  },
  {
   "cell_type": "markdown",
   "metadata": {},
   "source": [
    "Birthplace (block 1)"
   ]
  },
  {
   "cell_type": "code",
   "execution_count": 271,
   "metadata": {},
   "outputs": [],
   "source": [
    "for i in data:\n",
    "    place = re.findall('род.? в (.{1,4}? .*?)[.(,]',i[1])\n",
    "    if place != []:\n",
    "        cur.execute('UPDATE Informators SET birthplace=? WHERE id=?', (place[0], i[0]))"
   ]
  },
  {
   "cell_type": "code",
   "execution_count": 272,
   "metadata": {},
   "outputs": [],
   "source": [
    "con.commit()"
   ]
  },
  {
   "cell_type": "markdown",
   "metadata": {},
   "source": [
    "# New data"
   ]
  },
  {
   "cell_type": "code",
   "execution_count": 51,
   "metadata": {},
   "outputs": [],
   "source": [
    "def normalize_view(text_array, informants:list):\n",
    "    inf = {i:i for i in informants}\n",
    "    copy = informants\n",
    "    informants = {}\n",
    "    informants.update({i[-2]:i for i in inf})\n",
    "    informants.update({i[-2:]:i for i in inf})\n",
    "    informants.update({i:i for i in inf})\n",
    "    #if copy == ['ОРА']: informants = {'РА':'ОГА'}\n",
    "    #print (informants)\n",
    "    result = []\n",
    "    for i in text_array:\n",
    "        if re.match('^[CС0-9, -]{1,7}:.*?$', i):\n",
    "            result.append('[{}]'.format(i))\n",
    "            #print ('[{}]'.format(i))\n",
    "        else:\n",
    "            r = re.findall('^([А-Яа-яA-Za-z0-9-, ]{1,7}):(.*?$)',i)\n",
    "            if r:\n",
    "                    prefix, text = r[0]\n",
    "                    prefix = ''.join(c for c in prefix if c.isupper() or c.isdigit() or c in ', ')\n",
    "                    try:\n",
    "                        result.append('[{}:]{}'.format(informants[prefix], text)) \n",
    "                    except KeyError:\n",
    "                        result.append('[{}:]{}'.format(prefix, text)) \n",
    "            else:\n",
    "                try:\n",
    "                    result[-1] = result[-1] + '\\n' + i\n",
    "                except:\n",
    "                    result.append(i)\n",
    "    result = '\\n'.join(result)\n",
    "    result = result.replace('«','\"').replace('»','\"')\n",
    "    return result"
   ]
  },
  {
   "cell_type": "code",
   "execution_count": null,
   "metadata": {},
   "outputs": [],
   "source": []
  },
  {
   "cell_type": "code",
   "execution_count": 58,
   "metadata": {},
   "outputs": [],
   "source": [
    "data = []\n",
    "with open('./raw_data/14_11.txt') as f:\n",
    "    for i in f.read().split('\\n\\n\\n'):\n",
    "        text = i.strip().split('\\n\\n')\n",
    "        a = text[0].split('\\n')\n",
    "        t = re.findall('(.*?):(.*?)-(.*?):(.*?)$',a[1])[0]\n",
    "        start = int(t[0])*60 + int(t[1])\n",
    "        end = int(t[2])*60 + int(t[3])\n",
    "        keywords = re.findall('^.*?:(.*?)$',a[2])[0].strip()\n",
    "        data.append(tuple(['ЮМК', a[0].strip(), start, end, keywords, normalize_view(text[1].split('\\n'), ['CНП'])]))\n",
    "        #print (a[0].strip(), start, end, keywords)\n",
    "        #normalize_view(text[1].split('\\n'), ['CНП'])\n",
    "        #print ('\\n---------------------------------------------\\n'.join(i.strip().split('\\n\\n')))\n",
    "        #print ('=================================================================')"
   ]
  },
  {
   "cell_type": "code",
   "execution_count": 59,
   "metadata": {},
   "outputs": [
    {
     "data": {
      "text/plain": [
       "('ЮМК',\n",
       " '-',\n",
       " 0,\n",
       " 34,\n",
       " '',\n",
       " '[CНП:] Тут крылечко, не знаю, тут можно посидеть…\\n[С: А там лавочки наверное есть, ну, возле озера.]\\n[CНП:] А здесь вот качели, детская площадка.\\n[С: Пойдемте.]')"
      ]
     },
     "execution_count": 59,
     "metadata": {},
     "output_type": "execute_result"
    }
   ],
   "source": [
    "data[0]"
   ]
  },
  {
   "cell_type": "code",
   "execution_count": 63,
   "metadata": {},
   "outputs": [
    {
     "data": {
      "text/plain": [
       "<sqlite3.Cursor at 0x7f3b316058f0>"
      ]
     },
     "execution_count": 63,
     "metadata": {},
     "output_type": "execute_result"
    }
   ],
   "source": [
    "cur.executemany('INSERT INTO Texts (leader, title, start, end, keywords, raw_text)\\\n",
    "VALUES (?, ?, ?, ?, ?, ?)', data)"
   ]
  },
  {
   "cell_type": "code",
   "execution_count": 64,
   "metadata": {},
   "outputs": [],
   "source": [
    "con.commit()"
   ]
  },
  {
   "cell_type": "code",
   "execution_count": 19,
   "metadata": {},
   "outputs": [
    {
     "data": {
      "text/plain": [
       "['Похоронный обряд. Предвестья смерти.',\n",
       " '39:15-41:13',\n",
       " 'Ключевые слова: похоронный обряд, жизнь-смерть, приметы, собака']"
      ]
     },
     "execution_count": 19,
     "metadata": {},
     "output_type": "execute_result"
    }
   ],
   "source": [
    "a = text.split('\\n')\n",
    "a"
   ]
  },
  {
   "cell_type": "code",
   "execution_count": 23,
   "metadata": {},
   "outputs": [
    {
     "data": {
      "text/plain": [
       "[('39', '15', '41', '13')]"
      ]
     },
     "execution_count": 23,
     "metadata": {},
     "output_type": "execute_result"
    }
   ],
   "source": [
    "re.findall('^(.*?):(.*?)-(.*?):(.*?)$',a[1])"
   ]
  },
  {
   "cell_type": "markdown",
   "metadata": {},
   "source": [
    "# JSON"
   ]
  },
  {
   "cell_type": "code",
   "execution_count": 106,
   "metadata": {},
   "outputs": [],
   "source": [
    "from nltk.tokenize import sent_tokenize, TweetTokenizer\n",
    "tk = TweetTokenizer()\n",
    "from pymystem3 import Mystem\n",
    "m = Mystem()\n",
    "import json\n",
    "\n",
    "categories = json.load(open('./raw_data/categories.json', 'r', encoding='utf-8'))\n",
    "\n",
    "def split_sentences(text):\n",
    "    text = text.replace('[','\\n[')\n",
    "    result = []\n",
    "    for i in text.split('\\n\\n'):\n",
    "        result += sent_tokenize(i)\n",
    "    return result\n",
    "\n",
    "def sentence_comment(text):\n",
    "    c = text.find(']')\n",
    "    if c > 5:\n",
    "        return None, m.analyze(text.strip())\n",
    "    else:\n",
    "        #print (text[c+1:].strip()+'5')\n",
    "        return text[:c+1], m.analyze(text[c+1:].strip())\n",
    "    \n",
    "def _join_text(beginning, sentence):\n",
    "        \n",
    "        #meta\n",
    "    \n",
    "        if beginning is not None and beginning != '':\n",
    "            text = beginning+' '\n",
    "        else:\n",
    "            text = ''\n",
    "        for key, word in enumerate(sentence['words']):\n",
    "            if 'wf' not in word:\n",
    "                continue\n",
    "            sentence['words'][key]['off_start'] = len(text)\n",
    "            if word['wtype'] == 'word':\n",
    "                text += word['wf'] + ' '\n",
    "                sentence['words'][key]['off_end'] = len(text) - 1\n",
    "            else:\n",
    "                if word['wf'].startswith(('(', '[', '{', '<', '“')):\n",
    "                    text += word['wf']\n",
    "                    sentence['words'][key]['off_end'] = len(text)\n",
    "                elif word['wf'].startswith((')', ']', '}', '>', '.', ':',',', '?', '!', '”', '…')):\n",
    "                    if text.endswith(' '):\n",
    "                        sentence['words'][key]['off_start'] -= 1\n",
    "                        text = text[:-1]\n",
    "                    text += word['wf'] + ' '\n",
    "                    sentence['words'][key]['off_end'] = len(text) - 1\n",
    "                else:\n",
    "                    text += word['wf'] + ' '\n",
    "                    sentence['words'][key]['off_end'] = len(text) - 1\n",
    "            sentence['words'][key]['sentence_index'] = key\n",
    "            sentence['words'][key]['next_word'] = key+1\n",
    "        sentence['text'] = text\n",
    "        if beginning is not None:\n",
    "            sentence['words'] = [{'wf':beginning, 'wtype':'comment', \n",
    "                                  'off_start':0, 'off_end':len(beginning)}]+sentence['words']\n",
    "        return sentence\n",
    "     \n",
    "def mystem_interpreter(word, language='russian'):\n",
    "    result = []\n",
    "    if 'analysis' in word:\n",
    "    #if True:\n",
    "        for i in word['analysis']:\n",
    "            lex = i['lex']\n",
    "            variants = i['gr'].split('=')\n",
    "            variants[0] = variants[0].split(',')\n",
    "            variants[1] = [x.split(',') for x in variants[1].strip('()').split('|')]\n",
    "            if variants[1] == [['']]: \n",
    "                variants[1] = []\n",
    "                cur = {'lex':lex}\n",
    "                for var in variants[0]:\n",
    "                    cur['gr.{}'.format(categories[language][var])] = var\n",
    "                result.append(cur)\n",
    "            else:\n",
    "                for j in variants[1]:\n",
    "                    cur = {'lex':lex}\n",
    "                    for var in variants[0]+j:\n",
    "                        cur['gr.{}'.format(categories[language][var])] = var\n",
    "                    result.append(cur)\n",
    "        #print (result)\n",
    "        return {\n",
    "            'wtype':'word',\n",
    "            'wf':word['text'],\n",
    "            'ana': result\n",
    "        }\n",
    "    else:\n",
    "        return {\n",
    "            'wtype':'punkt',\n",
    "            'wf':word['text']\n",
    "        }\n",
    "    \n",
    "def sentences(text):\n",
    "    text = split_sentences(text)\n",
    "    result = []\n",
    "    for i in text:\n",
    "        sentence = sentence_comment(i)\n",
    "        #print (sentence)\n",
    "        #print (sentence)\n",
    "        cur = []\n",
    "        for j in sentence[1]:\n",
    "            cur.append(mystem_interpreter(j))\n",
    "        result.append(_join_text(sentence[0], {'words':cur}))\n",
    "    return result"
   ]
  },
  {
   "cell_type": "code",
   "execution_count": 93,
   "metadata": {},
   "outputs": [
    {
     "name": "stdout",
     "output_type": "stream",
     "text": [
      "[CНП:] … Танцевали мы, пели частушки про Масленицу.\n",
      "[С: А вы не напоете сейчас какие-нибудь частушки? Может, вспомните?]\n",
      "[CНП:] \n",
      "Как на Масляной неделе\n",
      "Санки с горочки летели!\n",
      "Дунька с горки катится,\n",
      "На ней бородово платьице! \n",
      "<смеется>\n",
      "[С: Здорово!]\n",
      "[CНП:] Вот это на Масленицу мы пели.<смеется>\n"
     ]
    }
   ],
   "source": [
    "print(data[4][-1])"
   ]
  },
  {
   "cell_type": "code",
   "execution_count": 107,
   "metadata": {},
   "outputs": [
    {
     "name": "stdout",
     "output_type": "stream",
     "text": [
      "|[CНП:] …  Танцевали   мы,  пели   частушки   про   Масленицу. \n",
      " |\n",
      "|[С:  А   вы   не   напоете   сейчас   какие-нибудь   частушки? \n",
      " |\n",
      "|Может,  вспомните?]\n",
      " |\n",
      "|[CНП:] Как   на   Масляной   неделе \n",
      " Санки   с   горочки   летели! \n",
      " |\n",
      "|Дунька   с   горки   катится,\n",
      " На   ней   бородово   платьице! \n",
      " |\n",
      "|<смеется>\n",
      " |\n",
      "|[С:  Здорово!]\n",
      " |\n",
      "|[CНП:] Вот   это   на   Масленицу   мы   пели. <смеется>\n",
      " |\n"
     ]
    }
   ],
   "source": [
    "for i in sentences(data[4][-1]):\n",
    "    print ('|{}|'.format(i['text']))"
   ]
  },
  {
   "cell_type": "code",
   "execution_count": 108,
   "metadata": {},
   "outputs": [
    {
     "data": {
      "text/plain": [
       "[{'words': [{'wtype': 'punkt',\n",
       "    'wf': '[',\n",
       "    'off_start': 0,\n",
       "    'off_end': 1,\n",
       "    'sentence_index': 0,\n",
       "    'next_word': 1},\n",
       "   {'wtype': 'word',\n",
       "    'wf': 'CНП',\n",
       "    'ana': [],\n",
       "    'off_start': 1,\n",
       "    'off_end': 4,\n",
       "    'sentence_index': 1,\n",
       "    'next_word': 2},\n",
       "   {'wtype': 'punkt',\n",
       "    'wf': ':] ',\n",
       "    'off_start': 4,\n",
       "    'off_end': 7,\n",
       "    'sentence_index': 2,\n",
       "    'next_word': 3},\n",
       "   {'wtype': 'punkt',\n",
       "    'wf': '… ',\n",
       "    'off_start': 7,\n",
       "    'off_end': 9,\n",
       "    'sentence_index': 3,\n",
       "    'next_word': 4},\n",
       "   {'wtype': 'word',\n",
       "    'wf': 'Танцевали',\n",
       "    'ana': [{'lex': 'танцевать',\n",
       "      'gr.pos': 'V',\n",
       "      'gr.asp': 'ipf',\n",
       "      'gr.trans': 'tran',\n",
       "      'gr.tense': 'praet',\n",
       "      'gr.num': 'pl',\n",
       "      'gr.mood': 'indic'}],\n",
       "    'off_start': 10,\n",
       "    'off_end': 19,\n",
       "    'sentence_index': 4,\n",
       "    'next_word': 5},\n",
       "   {'wtype': 'punkt',\n",
       "    'wf': ' ',\n",
       "    'off_start': 20,\n",
       "    'off_end': 21,\n",
       "    'sentence_index': 5,\n",
       "    'next_word': 6},\n",
       "   {'wtype': 'word',\n",
       "    'wf': 'мы',\n",
       "    'ana': [{'lex': 'мы',\n",
       "      'gr.pos': 'SPRO',\n",
       "      'gr.num': 'pl',\n",
       "      'gr.pers': '1p',\n",
       "      'gr.case': 'nom'}],\n",
       "    'off_start': 22,\n",
       "    'off_end': 24,\n",
       "    'sentence_index': 6,\n",
       "    'next_word': 7},\n",
       "   {'wtype': 'punkt',\n",
       "    'wf': ', ',\n",
       "    'off_start': 24,\n",
       "    'off_end': 26,\n",
       "    'sentence_index': 7,\n",
       "    'next_word': 8},\n",
       "   {'wtype': 'word',\n",
       "    'wf': 'пели',\n",
       "    'ana': [{'lex': 'петь',\n",
       "      'gr.pos': 'V',\n",
       "      'gr.asp': 'ipf',\n",
       "      'gr.trans': 'tran',\n",
       "      'gr.tense': 'praet',\n",
       "      'gr.num': 'pl',\n",
       "      'gr.mood': 'indic'}],\n",
       "    'off_start': 27,\n",
       "    'off_end': 31,\n",
       "    'sentence_index': 8,\n",
       "    'next_word': 9},\n",
       "   {'wtype': 'punkt',\n",
       "    'wf': ' ',\n",
       "    'off_start': 32,\n",
       "    'off_end': 33,\n",
       "    'sentence_index': 9,\n",
       "    'next_word': 10},\n",
       "   {'wtype': 'word',\n",
       "    'wf': 'частушки',\n",
       "    'ana': [{'lex': 'частушка',\n",
       "      'gr.pos': 'S',\n",
       "      'gr.gender': 'f',\n",
       "      'gr.animacy': 'inan',\n",
       "      'gr.case': 'acc',\n",
       "      'gr.num': 'pl'},\n",
       "     {'lex': 'частушка',\n",
       "      'gr.pos': 'S',\n",
       "      'gr.gender': 'f',\n",
       "      'gr.animacy': 'inan',\n",
       "      'gr.case': 'gen',\n",
       "      'gr.num': 'sg'},\n",
       "     {'lex': 'частушка',\n",
       "      'gr.pos': 'S',\n",
       "      'gr.gender': 'f',\n",
       "      'gr.animacy': 'inan',\n",
       "      'gr.case': 'nom',\n",
       "      'gr.num': 'pl'}],\n",
       "    'off_start': 34,\n",
       "    'off_end': 42,\n",
       "    'sentence_index': 10,\n",
       "    'next_word': 11},\n",
       "   {'wtype': 'punkt',\n",
       "    'wf': ' ',\n",
       "    'off_start': 43,\n",
       "    'off_end': 44,\n",
       "    'sentence_index': 11,\n",
       "    'next_word': 12},\n",
       "   {'wtype': 'word',\n",
       "    'wf': 'про',\n",
       "    'ana': [{'lex': 'про', 'gr.pos': 'PR'}],\n",
       "    'off_start': 45,\n",
       "    'off_end': 48,\n",
       "    'sentence_index': 12,\n",
       "    'next_word': 13},\n",
       "   {'wtype': 'punkt',\n",
       "    'wf': ' ',\n",
       "    'off_start': 49,\n",
       "    'off_end': 50,\n",
       "    'sentence_index': 13,\n",
       "    'next_word': 14},\n",
       "   {'wtype': 'word',\n",
       "    'wf': 'Масленицу',\n",
       "    'ana': [{'lex': 'масленица',\n",
       "      'gr.pos': 'S',\n",
       "      'gr.gender': 'f',\n",
       "      'gr.animacy': 'inan',\n",
       "      'gr.case': 'acc',\n",
       "      'gr.num': 'sg'}],\n",
       "    'off_start': 51,\n",
       "    'off_end': 60,\n",
       "    'sentence_index': 14,\n",
       "    'next_word': 15},\n",
       "   {'wtype': 'punkt',\n",
       "    'wf': '.',\n",
       "    'off_start': 60,\n",
       "    'off_end': 61,\n",
       "    'sentence_index': 15,\n",
       "    'next_word': 16},\n",
       "   {'wtype': 'punkt',\n",
       "    'wf': '\\n',\n",
       "    'off_start': 62,\n",
       "    'off_end': 63,\n",
       "    'sentence_index': 16,\n",
       "    'next_word': 17}],\n",
       "  'text': '[CНП:] …  Танцевали   мы,  пели   частушки   про   Масленицу. \\n '},\n",
       " {'words': [{'wf': '', 'wtype': 'comment', 'off_start': 0, 'off_end': 0},\n",
       "   {'wtype': 'punkt',\n",
       "    'wf': '[',\n",
       "    'off_start': 0,\n",
       "    'off_end': 1,\n",
       "    'sentence_index': 0,\n",
       "    'next_word': 1},\n",
       "   {'wtype': 'word',\n",
       "    'wf': 'С',\n",
       "    'ana': [{'lex': 'с',\n",
       "      'gr.pos': 'S',\n",
       "      'gr.type': 'abbr',\n",
       "      'gr.case': 'abl',\n",
       "      'gr.num': 'pl'},\n",
       "     {'lex': 'с',\n",
       "      'gr.pos': 'S',\n",
       "      'gr.type': 'abbr',\n",
       "      'gr.case': 'abl',\n",
       "      'gr.num': 'sg'},\n",
       "     {'lex': 'с',\n",
       "      'gr.pos': 'S',\n",
       "      'gr.type': 'abbr',\n",
       "      'gr.case': 'acc',\n",
       "      'gr.num': 'pl'},\n",
       "     {'lex': 'с',\n",
       "      'gr.pos': 'S',\n",
       "      'gr.type': 'abbr',\n",
       "      'gr.case': 'acc',\n",
       "      'gr.num': 'sg'},\n",
       "     {'lex': 'с',\n",
       "      'gr.pos': 'S',\n",
       "      'gr.type': 'abbr',\n",
       "      'gr.case': 'dat',\n",
       "      'gr.num': 'pl'},\n",
       "     {'lex': 'с',\n",
       "      'gr.pos': 'S',\n",
       "      'gr.type': 'abbr',\n",
       "      'gr.case': 'dat',\n",
       "      'gr.num': 'sg'},\n",
       "     {'lex': 'с',\n",
       "      'gr.pos': 'S',\n",
       "      'gr.type': 'abbr',\n",
       "      'gr.case': 'gen',\n",
       "      'gr.num': 'pl'},\n",
       "     {'lex': 'с',\n",
       "      'gr.pos': 'S',\n",
       "      'gr.type': 'abbr',\n",
       "      'gr.case': 'gen',\n",
       "      'gr.num': 'sg'},\n",
       "     {'lex': 'с',\n",
       "      'gr.pos': 'S',\n",
       "      'gr.type': 'abbr',\n",
       "      'gr.case': 'ins',\n",
       "      'gr.num': 'pl'},\n",
       "     {'lex': 'с',\n",
       "      'gr.pos': 'S',\n",
       "      'gr.type': 'abbr',\n",
       "      'gr.case': 'ins',\n",
       "      'gr.num': 'sg'},\n",
       "     {'lex': 'с',\n",
       "      'gr.pos': 'S',\n",
       "      'gr.type': 'abbr',\n",
       "      'gr.case': 'nom',\n",
       "      'gr.num': 'pl'},\n",
       "     {'lex': 'с',\n",
       "      'gr.pos': 'S',\n",
       "      'gr.type': 'abbr',\n",
       "      'gr.case': 'nom',\n",
       "      'gr.num': 'sg'}],\n",
       "    'off_start': 1,\n",
       "    'off_end': 2,\n",
       "    'sentence_index': 1,\n",
       "    'next_word': 2},\n",
       "   {'wtype': 'punkt',\n",
       "    'wf': ': ',\n",
       "    'off_start': 2,\n",
       "    'off_end': 4,\n",
       "    'sentence_index': 2,\n",
       "    'next_word': 3},\n",
       "   {'wtype': 'word',\n",
       "    'wf': 'А',\n",
       "    'ana': [{'lex': 'а',\n",
       "      'gr.pos': 'S',\n",
       "      'gr.type': 'abbr',\n",
       "      'gr.case': 'abl',\n",
       "      'gr.num': 'pl'},\n",
       "     {'lex': 'а',\n",
       "      'gr.pos': 'S',\n",
       "      'gr.type': 'abbr',\n",
       "      'gr.case': 'abl',\n",
       "      'gr.num': 'sg'},\n",
       "     {'lex': 'а',\n",
       "      'gr.pos': 'S',\n",
       "      'gr.type': 'abbr',\n",
       "      'gr.case': 'acc',\n",
       "      'gr.num': 'pl'},\n",
       "     {'lex': 'а',\n",
       "      'gr.pos': 'S',\n",
       "      'gr.type': 'abbr',\n",
       "      'gr.case': 'acc',\n",
       "      'gr.num': 'sg'},\n",
       "     {'lex': 'а',\n",
       "      'gr.pos': 'S',\n",
       "      'gr.type': 'abbr',\n",
       "      'gr.case': 'dat',\n",
       "      'gr.num': 'pl'},\n",
       "     {'lex': 'а',\n",
       "      'gr.pos': 'S',\n",
       "      'gr.type': 'abbr',\n",
       "      'gr.case': 'dat',\n",
       "      'gr.num': 'sg'},\n",
       "     {'lex': 'а',\n",
       "      'gr.pos': 'S',\n",
       "      'gr.type': 'abbr',\n",
       "      'gr.case': 'gen',\n",
       "      'gr.num': 'pl'},\n",
       "     {'lex': 'а',\n",
       "      'gr.pos': 'S',\n",
       "      'gr.type': 'abbr',\n",
       "      'gr.case': 'gen',\n",
       "      'gr.num': 'sg'},\n",
       "     {'lex': 'а',\n",
       "      'gr.pos': 'S',\n",
       "      'gr.type': 'abbr',\n",
       "      'gr.case': 'ins',\n",
       "      'gr.num': 'pl'},\n",
       "     {'lex': 'а',\n",
       "      'gr.pos': 'S',\n",
       "      'gr.type': 'abbr',\n",
       "      'gr.case': 'ins',\n",
       "      'gr.num': 'sg'},\n",
       "     {'lex': 'а',\n",
       "      'gr.pos': 'S',\n",
       "      'gr.type': 'abbr',\n",
       "      'gr.case': 'nom',\n",
       "      'gr.num': 'pl'},\n",
       "     {'lex': 'а',\n",
       "      'gr.pos': 'S',\n",
       "      'gr.type': 'abbr',\n",
       "      'gr.case': 'nom',\n",
       "      'gr.num': 'sg'}],\n",
       "    'off_start': 5,\n",
       "    'off_end': 6,\n",
       "    'sentence_index': 3,\n",
       "    'next_word': 4},\n",
       "   {'wtype': 'punkt',\n",
       "    'wf': ' ',\n",
       "    'off_start': 7,\n",
       "    'off_end': 8,\n",
       "    'sentence_index': 4,\n",
       "    'next_word': 5},\n",
       "   {'wtype': 'word',\n",
       "    'wf': 'вы',\n",
       "    'ana': [{'lex': 'вы',\n",
       "      'gr.pos': 'SPRO',\n",
       "      'gr.num': 'pl',\n",
       "      'gr.pers': '2p',\n",
       "      'gr.case': 'nom'}],\n",
       "    'off_start': 9,\n",
       "    'off_end': 11,\n",
       "    'sentence_index': 5,\n",
       "    'next_word': 6},\n",
       "   {'wtype': 'punkt',\n",
       "    'wf': ' ',\n",
       "    'off_start': 12,\n",
       "    'off_end': 13,\n",
       "    'sentence_index': 6,\n",
       "    'next_word': 7},\n",
       "   {'wtype': 'word',\n",
       "    'wf': 'не',\n",
       "    'ana': [{'lex': 'не', 'gr.pos': 'PART'}],\n",
       "    'off_start': 14,\n",
       "    'off_end': 16,\n",
       "    'sentence_index': 7,\n",
       "    'next_word': 8},\n",
       "   {'wtype': 'punkt',\n",
       "    'wf': ' ',\n",
       "    'off_start': 17,\n",
       "    'off_end': 18,\n",
       "    'sentence_index': 8,\n",
       "    'next_word': 9},\n",
       "   {'wtype': 'word',\n",
       "    'wf': 'напоете',\n",
       "    'ana': [{'lex': 'напевать',\n",
       "      'gr.pos': 'V',\n",
       "      'gr.trans': 'tran',\n",
       "      'gr.tense': 'inpraes',\n",
       "      'gr.num': 'pl',\n",
       "      'gr.mood': 'indic',\n",
       "      'gr.pers': '2p',\n",
       "      'gr.asp': 'pf'}],\n",
       "    'off_start': 19,\n",
       "    'off_end': 26,\n",
       "    'sentence_index': 9,\n",
       "    'next_word': 10},\n",
       "   {'wtype': 'punkt',\n",
       "    'wf': ' ',\n",
       "    'off_start': 27,\n",
       "    'off_end': 28,\n",
       "    'sentence_index': 10,\n",
       "    'next_word': 11},\n",
       "   {'wtype': 'word',\n",
       "    'wf': 'сейчас',\n",
       "    'ana': [{'lex': 'сейчас', 'gr.pos': 'ADV'}],\n",
       "    'off_start': 29,\n",
       "    'off_end': 35,\n",
       "    'sentence_index': 11,\n",
       "    'next_word': 12},\n",
       "   {'wtype': 'punkt',\n",
       "    'wf': ' ',\n",
       "    'off_start': 36,\n",
       "    'off_end': 37,\n",
       "    'sentence_index': 12,\n",
       "    'next_word': 13},\n",
       "   {'wtype': 'word',\n",
       "    'wf': 'какие-нибудь',\n",
       "    'ana': [{'lex': 'какой-нибудь',\n",
       "      'gr.pos': 'APRO',\n",
       "      'gr.case': 'nom',\n",
       "      'gr.num': 'pl'},\n",
       "     {'lex': 'какой-нибудь',\n",
       "      'gr.pos': 'APRO',\n",
       "      'gr.case': 'acc',\n",
       "      'gr.num': 'pl',\n",
       "      'gr.animacy': 'inan'}],\n",
       "    'off_start': 38,\n",
       "    'off_end': 50,\n",
       "    'sentence_index': 13,\n",
       "    'next_word': 14},\n",
       "   {'wtype': 'punkt',\n",
       "    'wf': ' ',\n",
       "    'off_start': 51,\n",
       "    'off_end': 52,\n",
       "    'sentence_index': 14,\n",
       "    'next_word': 15},\n",
       "   {'wtype': 'word',\n",
       "    'wf': 'частушки',\n",
       "    'ana': [{'lex': 'частушка',\n",
       "      'gr.pos': 'S',\n",
       "      'gr.gender': 'f',\n",
       "      'gr.animacy': 'inan',\n",
       "      'gr.case': 'acc',\n",
       "      'gr.num': 'pl'},\n",
       "     {'lex': 'частушка',\n",
       "      'gr.pos': 'S',\n",
       "      'gr.gender': 'f',\n",
       "      'gr.animacy': 'inan',\n",
       "      'gr.case': 'gen',\n",
       "      'gr.num': 'sg'},\n",
       "     {'lex': 'частушка',\n",
       "      'gr.pos': 'S',\n",
       "      'gr.gender': 'f',\n",
       "      'gr.animacy': 'inan',\n",
       "      'gr.case': 'nom',\n",
       "      'gr.num': 'pl'}],\n",
       "    'off_start': 53,\n",
       "    'off_end': 61,\n",
       "    'sentence_index': 15,\n",
       "    'next_word': 16},\n",
       "   {'wtype': 'punkt',\n",
       "    'wf': '?',\n",
       "    'off_start': 61,\n",
       "    'off_end': 62,\n",
       "    'sentence_index': 16,\n",
       "    'next_word': 17},\n",
       "   {'wtype': 'punkt',\n",
       "    'wf': '\\n',\n",
       "    'off_start': 63,\n",
       "    'off_end': 64,\n",
       "    'sentence_index': 17,\n",
       "    'next_word': 18}],\n",
       "  'text': '[С:  А   вы   не   напоете   сейчас   какие-нибудь   частушки? \\n '},\n",
       " {'words': [{'wtype': 'word',\n",
       "    'wf': 'Может',\n",
       "    'ana': [{'lex': 'может', 'gr.pos': 'ADV', 'gr.sem': 'parenth'}],\n",
       "    'off_start': 0,\n",
       "    'off_end': 5,\n",
       "    'sentence_index': 0,\n",
       "    'next_word': 1},\n",
       "   {'wtype': 'punkt',\n",
       "    'wf': ', ',\n",
       "    'off_start': 5,\n",
       "    'off_end': 7,\n",
       "    'sentence_index': 1,\n",
       "    'next_word': 2},\n",
       "   {'wtype': 'word',\n",
       "    'wf': 'вспомните',\n",
       "    'ana': [{'lex': 'вспомнить',\n",
       "      'gr.pos': 'V',\n",
       "      'gr.asp': 'pf',\n",
       "      'gr.trans': 'tran',\n",
       "      'gr.tense': 'inpraes',\n",
       "      'gr.num': 'pl',\n",
       "      'gr.mood': 'indic',\n",
       "      'gr.pers': '2p'},\n",
       "     {'lex': 'вспомнить',\n",
       "      'gr.pos': 'V',\n",
       "      'gr.asp': 'pf',\n",
       "      'gr.trans': 'tran',\n",
       "      'gr.num': 'pl',\n",
       "      'gr.mood': 'imper',\n",
       "      'gr.pers': '2p'}],\n",
       "    'off_start': 8,\n",
       "    'off_end': 17,\n",
       "    'sentence_index': 2,\n",
       "    'next_word': 3},\n",
       "   {'wtype': 'punkt',\n",
       "    'wf': '?',\n",
       "    'off_start': 17,\n",
       "    'off_end': 18,\n",
       "    'sentence_index': 3,\n",
       "    'next_word': 4},\n",
       "   {'wtype': 'punkt',\n",
       "    'wf': ']\\n',\n",
       "    'off_start': 18,\n",
       "    'off_end': 20,\n",
       "    'sentence_index': 4,\n",
       "    'next_word': 5}],\n",
       "  'text': 'Может,  вспомните?]\\n '},\n",
       " {'words': [{'wf': '[CНП:]', 'wtype': 'comment', 'off_start': 0, 'off_end': 6},\n",
       "   {'wtype': 'word',\n",
       "    'wf': 'Как',\n",
       "    'ana': [{'lex': 'как', 'gr.pos': 'ADVPRO'}],\n",
       "    'off_start': 7,\n",
       "    'off_end': 10,\n",
       "    'sentence_index': 0,\n",
       "    'next_word': 1},\n",
       "   {'wtype': 'punkt',\n",
       "    'wf': ' ',\n",
       "    'off_start': 11,\n",
       "    'off_end': 12,\n",
       "    'sentence_index': 1,\n",
       "    'next_word': 2},\n",
       "   {'wtype': 'word',\n",
       "    'wf': 'на',\n",
       "    'ana': [{'lex': 'на', 'gr.pos': 'PR'}],\n",
       "    'off_start': 13,\n",
       "    'off_end': 15,\n",
       "    'sentence_index': 2,\n",
       "    'next_word': 3},\n",
       "   {'wtype': 'punkt',\n",
       "    'wf': ' ',\n",
       "    'off_start': 16,\n",
       "    'off_end': 17,\n",
       "    'sentence_index': 3,\n",
       "    'next_word': 4},\n",
       "   {'wtype': 'word',\n",
       "    'wf': 'Масляной',\n",
       "    'ana': [{'lex': 'масляный',\n",
       "      'gr.pos': 'A',\n",
       "      'gr.case': 'abl',\n",
       "      'gr.num': 'sg',\n",
       "      'gr.adjF': 'plen',\n",
       "      'gr.gender': 'f'},\n",
       "     {'lex': 'масляный',\n",
       "      'gr.pos': 'A',\n",
       "      'gr.case': 'dat',\n",
       "      'gr.num': 'sg',\n",
       "      'gr.adjF': 'plen',\n",
       "      'gr.gender': 'f'},\n",
       "     {'lex': 'масляный',\n",
       "      'gr.pos': 'A',\n",
       "      'gr.case': 'gen',\n",
       "      'gr.num': 'sg',\n",
       "      'gr.adjF': 'plen',\n",
       "      'gr.gender': 'f'},\n",
       "     {'lex': 'масляный',\n",
       "      'gr.pos': 'A',\n",
       "      'gr.case': 'ins',\n",
       "      'gr.num': 'sg',\n",
       "      'gr.adjF': 'plen',\n",
       "      'gr.gender': 'f'}],\n",
       "    'off_start': 18,\n",
       "    'off_end': 26,\n",
       "    'sentence_index': 4,\n",
       "    'next_word': 5},\n",
       "   {'wtype': 'punkt',\n",
       "    'wf': ' ',\n",
       "    'off_start': 27,\n",
       "    'off_end': 28,\n",
       "    'sentence_index': 5,\n",
       "    'next_word': 6},\n",
       "   {'wtype': 'word',\n",
       "    'wf': 'неделе',\n",
       "    'ana': [{'lex': 'неделя',\n",
       "      'gr.pos': 'S',\n",
       "      'gr.gender': 'f',\n",
       "      'gr.animacy': 'inan',\n",
       "      'gr.case': 'abl',\n",
       "      'gr.num': 'sg'},\n",
       "     {'lex': 'неделя',\n",
       "      'gr.pos': 'S',\n",
       "      'gr.gender': 'f',\n",
       "      'gr.animacy': 'inan',\n",
       "      'gr.case': 'dat',\n",
       "      'gr.num': 'sg'}],\n",
       "    'off_start': 29,\n",
       "    'off_end': 35,\n",
       "    'sentence_index': 6,\n",
       "    'next_word': 7},\n",
       "   {'wtype': 'punkt',\n",
       "    'wf': '\\n',\n",
       "    'off_start': 36,\n",
       "    'off_end': 37,\n",
       "    'sentence_index': 7,\n",
       "    'next_word': 8},\n",
       "   {'wtype': 'word',\n",
       "    'wf': 'Санки',\n",
       "    'ana': [{'lex': 'санки',\n",
       "      'gr.pos': 'S',\n",
       "      'gr.num': 'pl',\n",
       "      'gr.animacy': 'inan',\n",
       "      'gr.case': 'acc'},\n",
       "     {'lex': 'санки',\n",
       "      'gr.pos': 'S',\n",
       "      'gr.num': 'pl',\n",
       "      'gr.animacy': 'inan',\n",
       "      'gr.case': 'nom'}],\n",
       "    'off_start': 38,\n",
       "    'off_end': 43,\n",
       "    'sentence_index': 8,\n",
       "    'next_word': 9},\n",
       "   {'wtype': 'punkt',\n",
       "    'wf': ' ',\n",
       "    'off_start': 44,\n",
       "    'off_end': 45,\n",
       "    'sentence_index': 9,\n",
       "    'next_word': 10},\n",
       "   {'wtype': 'word',\n",
       "    'wf': 'с',\n",
       "    'ana': [{'lex': 'с', 'gr.pos': 'PR'}],\n",
       "    'off_start': 46,\n",
       "    'off_end': 47,\n",
       "    'sentence_index': 10,\n",
       "    'next_word': 11},\n",
       "   {'wtype': 'punkt',\n",
       "    'wf': ' ',\n",
       "    'off_start': 48,\n",
       "    'off_end': 49,\n",
       "    'sentence_index': 11,\n",
       "    'next_word': 12},\n",
       "   {'wtype': 'word',\n",
       "    'wf': 'горочки',\n",
       "    'ana': [{'lex': 'горочка',\n",
       "      'gr.pos': 'S',\n",
       "      'gr.gender': 'f',\n",
       "      'gr.animacy': 'inan',\n",
       "      'gr.case': 'acc',\n",
       "      'gr.num': 'pl'},\n",
       "     {'lex': 'горочка',\n",
       "      'gr.pos': 'S',\n",
       "      'gr.gender': 'f',\n",
       "      'gr.animacy': 'inan',\n",
       "      'gr.case': 'gen',\n",
       "      'gr.num': 'sg'},\n",
       "     {'lex': 'горочка',\n",
       "      'gr.pos': 'S',\n",
       "      'gr.gender': 'f',\n",
       "      'gr.animacy': 'inan',\n",
       "      'gr.case': 'nom',\n",
       "      'gr.num': 'pl'}],\n",
       "    'off_start': 50,\n",
       "    'off_end': 57,\n",
       "    'sentence_index': 12,\n",
       "    'next_word': 13},\n",
       "   {'wtype': 'punkt',\n",
       "    'wf': ' ',\n",
       "    'off_start': 58,\n",
       "    'off_end': 59,\n",
       "    'sentence_index': 13,\n",
       "    'next_word': 14},\n",
       "   {'wtype': 'word',\n",
       "    'wf': 'летели',\n",
       "    'ana': [{'lex': 'лететь',\n",
       "      'gr.pos': 'V',\n",
       "      'gr.asp': 'ipf',\n",
       "      'gr.trans': 'intr',\n",
       "      'gr.tense': 'praet',\n",
       "      'gr.num': 'pl',\n",
       "      'gr.mood': 'indic'}],\n",
       "    'off_start': 60,\n",
       "    'off_end': 66,\n",
       "    'sentence_index': 14,\n",
       "    'next_word': 15},\n",
       "   {'wtype': 'punkt',\n",
       "    'wf': '!',\n",
       "    'off_start': 66,\n",
       "    'off_end': 67,\n",
       "    'sentence_index': 15,\n",
       "    'next_word': 16},\n",
       "   {'wtype': 'punkt',\n",
       "    'wf': '\\n',\n",
       "    'off_start': 68,\n",
       "    'off_end': 69,\n",
       "    'sentence_index': 16,\n",
       "    'next_word': 17}],\n",
       "  'text': '[CНП:] Как   на   Масляной   неделе \\n Санки   с   горочки   летели! \\n '},\n",
       " {'words': [{'wf': '', 'wtype': 'comment', 'off_start': 0, 'off_end': 0},\n",
       "   {'wtype': 'word',\n",
       "    'wf': 'Дунька',\n",
       "    'ana': [{'lex': 'дунька',\n",
       "      'gr.pos': 'S',\n",
       "      'gr.sem': 'persn',\n",
       "      'gr.gender': 'f',\n",
       "      'gr.animacy': 'anim',\n",
       "      'gr.case': 'nom',\n",
       "      'gr.num': 'sg'}],\n",
       "    'off_start': 0,\n",
       "    'off_end': 6,\n",
       "    'sentence_index': 0,\n",
       "    'next_word': 1},\n",
       "   {'wtype': 'punkt',\n",
       "    'wf': ' ',\n",
       "    'off_start': 7,\n",
       "    'off_end': 8,\n",
       "    'sentence_index': 1,\n",
       "    'next_word': 2},\n",
       "   {'wtype': 'word',\n",
       "    'wf': 'с',\n",
       "    'ana': [{'lex': 'с', 'gr.pos': 'PR'}],\n",
       "    'off_start': 9,\n",
       "    'off_end': 10,\n",
       "    'sentence_index': 2,\n",
       "    'next_word': 3},\n",
       "   {'wtype': 'punkt',\n",
       "    'wf': ' ',\n",
       "    'off_start': 11,\n",
       "    'off_end': 12,\n",
       "    'sentence_index': 3,\n",
       "    'next_word': 4},\n",
       "   {'wtype': 'word',\n",
       "    'wf': 'горки',\n",
       "    'ana': [{'lex': 'горка',\n",
       "      'gr.pos': 'S',\n",
       "      'gr.sem': 'geo',\n",
       "      'gr.gender': 'f',\n",
       "      'gr.animacy': 'inan',\n",
       "      'gr.case': 'acc',\n",
       "      'gr.num': 'pl'},\n",
       "     {'lex': 'горка',\n",
       "      'gr.pos': 'S',\n",
       "      'gr.sem': 'geo',\n",
       "      'gr.gender': 'f',\n",
       "      'gr.animacy': 'inan',\n",
       "      'gr.case': 'gen',\n",
       "      'gr.num': 'sg'},\n",
       "     {'lex': 'горка',\n",
       "      'gr.pos': 'S',\n",
       "      'gr.sem': 'geo',\n",
       "      'gr.gender': 'f',\n",
       "      'gr.animacy': 'inan',\n",
       "      'gr.case': 'nom',\n",
       "      'gr.num': 'pl'}],\n",
       "    'off_start': 13,\n",
       "    'off_end': 18,\n",
       "    'sentence_index': 4,\n",
       "    'next_word': 5},\n",
       "   {'wtype': 'punkt',\n",
       "    'wf': ' ',\n",
       "    'off_start': 19,\n",
       "    'off_end': 20,\n",
       "    'sentence_index': 5,\n",
       "    'next_word': 6},\n",
       "   {'wtype': 'word',\n",
       "    'wf': 'катится',\n",
       "    'ana': [{'lex': 'катиться',\n",
       "      'gr.pos': 'V',\n",
       "      'gr.asp': 'ipf',\n",
       "      'gr.trans': 'intr',\n",
       "      'gr.tense': 'inpraes',\n",
       "      'gr.num': 'sg',\n",
       "      'gr.mood': 'indic',\n",
       "      'gr.pers': '3p'}],\n",
       "    'off_start': 21,\n",
       "    'off_end': 28,\n",
       "    'sentence_index': 6,\n",
       "    'next_word': 7},\n",
       "   {'wtype': 'punkt',\n",
       "    'wf': ',\\n',\n",
       "    'off_start': 28,\n",
       "    'off_end': 30,\n",
       "    'sentence_index': 7,\n",
       "    'next_word': 8},\n",
       "   {'wtype': 'word',\n",
       "    'wf': 'На',\n",
       "    'ana': [{'lex': 'на', 'gr.pos': 'PR'}],\n",
       "    'off_start': 31,\n",
       "    'off_end': 33,\n",
       "    'sentence_index': 8,\n",
       "    'next_word': 9},\n",
       "   {'wtype': 'punkt',\n",
       "    'wf': ' ',\n",
       "    'off_start': 34,\n",
       "    'off_end': 35,\n",
       "    'sentence_index': 9,\n",
       "    'next_word': 10},\n",
       "   {'wtype': 'word',\n",
       "    'wf': 'ней',\n",
       "    'ana': [{'lex': 'она',\n",
       "      'gr.pos': 'SPRO',\n",
       "      'gr.num': 'sg',\n",
       "      'gr.pers': '3p',\n",
       "      'gr.gender': 'f',\n",
       "      'gr.case': 'abl'},\n",
       "     {'lex': 'она',\n",
       "      'gr.pos': 'SPRO',\n",
       "      'gr.num': 'sg',\n",
       "      'gr.pers': '3p',\n",
       "      'gr.gender': 'f',\n",
       "      'gr.case': 'dat'},\n",
       "     {'lex': 'она',\n",
       "      'gr.pos': 'SPRO',\n",
       "      'gr.num': 'sg',\n",
       "      'gr.pers': '3p',\n",
       "      'gr.gender': 'f',\n",
       "      'gr.case': 'gen'},\n",
       "     {'lex': 'она',\n",
       "      'gr.pos': 'SPRO',\n",
       "      'gr.num': 'sg',\n",
       "      'gr.pers': '3p',\n",
       "      'gr.gender': 'f',\n",
       "      'gr.case': 'ins'}],\n",
       "    'off_start': 36,\n",
       "    'off_end': 39,\n",
       "    'sentence_index': 10,\n",
       "    'next_word': 11},\n",
       "   {'wtype': 'punkt',\n",
       "    'wf': ' ',\n",
       "    'off_start': 40,\n",
       "    'off_end': 41,\n",
       "    'sentence_index': 11,\n",
       "    'next_word': 12},\n",
       "   {'wtype': 'word',\n",
       "    'wf': 'бородово',\n",
       "    'ana': [{'lex': 'бородов',\n",
       "      'gr.pos': 'A',\n",
       "      'gr.adjF': 'poss',\n",
       "      'gr.case': 'acc',\n",
       "      'gr.num': 'sg',\n",
       "      'gr.gender': 'n'},\n",
       "     {'lex': 'бородов',\n",
       "      'gr.pos': 'A',\n",
       "      'gr.adjF': 'poss',\n",
       "      'gr.case': 'nom',\n",
       "      'gr.num': 'sg',\n",
       "      'gr.gender': 'n'}],\n",
       "    'off_start': 42,\n",
       "    'off_end': 50,\n",
       "    'sentence_index': 12,\n",
       "    'next_word': 13},\n",
       "   {'wtype': 'punkt',\n",
       "    'wf': ' ',\n",
       "    'off_start': 51,\n",
       "    'off_end': 52,\n",
       "    'sentence_index': 13,\n",
       "    'next_word': 14},\n",
       "   {'wtype': 'word',\n",
       "    'wf': 'платьице',\n",
       "    'ana': [{'lex': 'платьице',\n",
       "      'gr.pos': 'S',\n",
       "      'gr.gender': 'n',\n",
       "      'gr.animacy': 'inan',\n",
       "      'gr.case': 'abl',\n",
       "      'gr.num': 'sg'},\n",
       "     {'lex': 'платьице',\n",
       "      'gr.pos': 'S',\n",
       "      'gr.gender': 'n',\n",
       "      'gr.animacy': 'inan',\n",
       "      'gr.case': 'acc',\n",
       "      'gr.num': 'sg'},\n",
       "     {'lex': 'платьице',\n",
       "      'gr.pos': 'S',\n",
       "      'gr.gender': 'n',\n",
       "      'gr.animacy': 'inan',\n",
       "      'gr.case': 'nom',\n",
       "      'gr.num': 'sg'}],\n",
       "    'off_start': 53,\n",
       "    'off_end': 61,\n",
       "    'sentence_index': 14,\n",
       "    'next_word': 15},\n",
       "   {'wtype': 'punkt',\n",
       "    'wf': '!',\n",
       "    'off_start': 61,\n",
       "    'off_end': 62,\n",
       "    'sentence_index': 15,\n",
       "    'next_word': 16},\n",
       "   {'wtype': 'punkt',\n",
       "    'wf': '\\n',\n",
       "    'off_start': 63,\n",
       "    'off_end': 64,\n",
       "    'sentence_index': 16,\n",
       "    'next_word': 17}],\n",
       "  'text': 'Дунька   с   горки   катится,\\n На   ней   бородово   платьице! \\n '},\n",
       " {'words': [{'wf': '', 'wtype': 'comment', 'off_start': 0, 'off_end': 0},\n",
       "   {'wtype': 'punkt',\n",
       "    'wf': '<',\n",
       "    'off_start': 0,\n",
       "    'off_end': 1,\n",
       "    'sentence_index': 0,\n",
       "    'next_word': 1},\n",
       "   {'wtype': 'word',\n",
       "    'wf': 'смеется',\n",
       "    'ana': [{'lex': 'смеяться',\n",
       "      'gr.pos': 'V',\n",
       "      'gr.asp': 'ipf',\n",
       "      'gr.trans': 'intr',\n",
       "      'gr.tense': 'inpraes',\n",
       "      'gr.num': 'sg',\n",
       "      'gr.mood': 'indic',\n",
       "      'gr.pers': '3p'}],\n",
       "    'off_start': 1,\n",
       "    'off_end': 8,\n",
       "    'sentence_index': 1,\n",
       "    'next_word': 2},\n",
       "   {'wtype': 'punkt',\n",
       "    'wf': '>\\n',\n",
       "    'off_start': 8,\n",
       "    'off_end': 10,\n",
       "    'sentence_index': 2,\n",
       "    'next_word': 3}],\n",
       "  'text': '<смеется>\\n '},\n",
       " {'words': [{'wtype': 'punkt',\n",
       "    'wf': '[',\n",
       "    'off_start': 0,\n",
       "    'off_end': 1,\n",
       "    'sentence_index': 0,\n",
       "    'next_word': 1},\n",
       "   {'wtype': 'word',\n",
       "    'wf': 'С',\n",
       "    'ana': [{'lex': 'с', 'gr.pos': 'PR'}],\n",
       "    'off_start': 1,\n",
       "    'off_end': 2,\n",
       "    'sentence_index': 1,\n",
       "    'next_word': 2},\n",
       "   {'wtype': 'punkt',\n",
       "    'wf': ': ',\n",
       "    'off_start': 2,\n",
       "    'off_end': 4,\n",
       "    'sentence_index': 2,\n",
       "    'next_word': 3},\n",
       "   {'wtype': 'word',\n",
       "    'wf': 'Здорово',\n",
       "    'ana': [{'lex': 'здорово', 'gr.pos': 'ADV'}],\n",
       "    'off_start': 5,\n",
       "    'off_end': 12,\n",
       "    'sentence_index': 3,\n",
       "    'next_word': 4},\n",
       "   {'wtype': 'punkt',\n",
       "    'wf': '!',\n",
       "    'off_start': 12,\n",
       "    'off_end': 13,\n",
       "    'sentence_index': 4,\n",
       "    'next_word': 5},\n",
       "   {'wtype': 'punkt',\n",
       "    'wf': ']\\n',\n",
       "    'off_start': 13,\n",
       "    'off_end': 15,\n",
       "    'sentence_index': 5,\n",
       "    'next_word': 6}],\n",
       "  'text': '[С:  Здорово!]\\n '},\n",
       " {'words': [{'wf': '[CНП:]', 'wtype': 'comment', 'off_start': 0, 'off_end': 6},\n",
       "   {'wtype': 'word',\n",
       "    'wf': 'Вот',\n",
       "    'ana': [{'lex': 'вот', 'gr.pos': 'PART'}],\n",
       "    'off_start': 7,\n",
       "    'off_end': 10,\n",
       "    'sentence_index': 0,\n",
       "    'next_word': 1},\n",
       "   {'wtype': 'punkt',\n",
       "    'wf': ' ',\n",
       "    'off_start': 11,\n",
       "    'off_end': 12,\n",
       "    'sentence_index': 1,\n",
       "    'next_word': 2},\n",
       "   {'wtype': 'word',\n",
       "    'wf': 'это',\n",
       "    'ana': [{'lex': 'это',\n",
       "      'gr.pos': 'SPRO',\n",
       "      'gr.num': 'sg',\n",
       "      'gr.gender': 'n',\n",
       "      'gr.animacy': 'inan',\n",
       "      'gr.case': 'acc'},\n",
       "     {'lex': 'это',\n",
       "      'gr.pos': 'SPRO',\n",
       "      'gr.num': 'sg',\n",
       "      'gr.gender': 'n',\n",
       "      'gr.animacy': 'inan',\n",
       "      'gr.case': 'nom'}],\n",
       "    'off_start': 13,\n",
       "    'off_end': 16,\n",
       "    'sentence_index': 2,\n",
       "    'next_word': 3},\n",
       "   {'wtype': 'punkt',\n",
       "    'wf': ' ',\n",
       "    'off_start': 17,\n",
       "    'off_end': 18,\n",
       "    'sentence_index': 3,\n",
       "    'next_word': 4},\n",
       "   {'wtype': 'word',\n",
       "    'wf': 'на',\n",
       "    'ana': [{'lex': 'на', 'gr.pos': 'PR'}],\n",
       "    'off_start': 19,\n",
       "    'off_end': 21,\n",
       "    'sentence_index': 4,\n",
       "    'next_word': 5},\n",
       "   {'wtype': 'punkt',\n",
       "    'wf': ' ',\n",
       "    'off_start': 22,\n",
       "    'off_end': 23,\n",
       "    'sentence_index': 5,\n",
       "    'next_word': 6},\n",
       "   {'wtype': 'word',\n",
       "    'wf': 'Масленицу',\n",
       "    'ana': [{'lex': 'масленица',\n",
       "      'gr.pos': 'S',\n",
       "      'gr.gender': 'f',\n",
       "      'gr.animacy': 'inan',\n",
       "      'gr.case': 'acc',\n",
       "      'gr.num': 'sg'}],\n",
       "    'off_start': 24,\n",
       "    'off_end': 33,\n",
       "    'sentence_index': 6,\n",
       "    'next_word': 7},\n",
       "   {'wtype': 'punkt',\n",
       "    'wf': ' ',\n",
       "    'off_start': 34,\n",
       "    'off_end': 35,\n",
       "    'sentence_index': 7,\n",
       "    'next_word': 8},\n",
       "   {'wtype': 'word',\n",
       "    'wf': 'мы',\n",
       "    'ana': [{'lex': 'мы',\n",
       "      'gr.pos': 'SPRO',\n",
       "      'gr.num': 'pl',\n",
       "      'gr.pers': '1p',\n",
       "      'gr.case': 'nom'}],\n",
       "    'off_start': 36,\n",
       "    'off_end': 38,\n",
       "    'sentence_index': 8,\n",
       "    'next_word': 9},\n",
       "   {'wtype': 'punkt',\n",
       "    'wf': ' ',\n",
       "    'off_start': 39,\n",
       "    'off_end': 40,\n",
       "    'sentence_index': 9,\n",
       "    'next_word': 10},\n",
       "   {'wtype': 'word',\n",
       "    'wf': 'пели',\n",
       "    'ana': [{'lex': 'петь',\n",
       "      'gr.pos': 'V',\n",
       "      'gr.asp': 'ipf',\n",
       "      'gr.trans': 'tran',\n",
       "      'gr.tense': 'praet',\n",
       "      'gr.num': 'pl',\n",
       "      'gr.mood': 'indic'}],\n",
       "    'off_start': 41,\n",
       "    'off_end': 45,\n",
       "    'sentence_index': 10,\n",
       "    'next_word': 11},\n",
       "   {'wtype': 'punkt',\n",
       "    'wf': '.',\n",
       "    'off_start': 45,\n",
       "    'off_end': 46,\n",
       "    'sentence_index': 11,\n",
       "    'next_word': 12},\n",
       "   {'wtype': 'punkt',\n",
       "    'wf': '<',\n",
       "    'off_start': 47,\n",
       "    'off_end': 48,\n",
       "    'sentence_index': 12,\n",
       "    'next_word': 13},\n",
       "   {'wtype': 'word',\n",
       "    'wf': 'смеется',\n",
       "    'ana': [{'lex': 'смеяться',\n",
       "      'gr.pos': 'V',\n",
       "      'gr.asp': 'ipf',\n",
       "      'gr.trans': 'intr',\n",
       "      'gr.tense': 'inpraes',\n",
       "      'gr.num': 'sg',\n",
       "      'gr.mood': 'indic',\n",
       "      'gr.pers': '3p'}],\n",
       "    'off_start': 48,\n",
       "    'off_end': 55,\n",
       "    'sentence_index': 13,\n",
       "    'next_word': 14},\n",
       "   {'wtype': 'punkt',\n",
       "    'wf': '>\\n',\n",
       "    'off_start': 55,\n",
       "    'off_end': 57,\n",
       "    'sentence_index': 14,\n",
       "    'next_word': 15}],\n",
       "  'text': '[CНП:] Вот   это   на   Масленицу   мы   пели. <смеется>\\n '}]"
      ]
     },
     "execution_count": 108,
     "metadata": {},
     "output_type": "execute_result"
    }
   ],
   "source": [
    "sentences(data[4][-1])"
   ]
  },
  {
   "cell_type": "code",
   "execution_count": 88,
   "metadata": {},
   "outputs": [
    {
     "name": "stdout",
     "output_type": "stream",
     "text": [
      "[CНП:] … Танцевали мы, пели частушки про Масленицу.\n",
      "[С: А вы не напоете сейчас какие-нибудь частушки? Может, вспомните?]\n",
      "[CНП:] \n",
      "Как на Масляной неделе\n",
      "Санки с горочки летели!\n",
      "Дунька с горки катится,\n",
      "На ней бородово платьице! \n",
      "<смеется>\n",
      "[С: Здорово!]\n",
      "[CНП:] Вот это на Масленицу мы пели.<смеется>\n"
     ]
    }
   ],
   "source": [
    "print (data[4][-1])"
   ]
  },
  {
   "cell_type": "code",
   "execution_count": 89,
   "metadata": {},
   "outputs": [
    {
     "data": {
      "text/plain": [
       "['\\n[CНП:] … Танцевали мы, пели частушки про Масленицу.',\n",
       " '[С: А вы не напоете сейчас какие-нибудь частушки?',\n",
       " 'Может, вспомните?]',\n",
       " '[CНП:] \\nКак на Масляной неделе\\nСанки с горочки летели!',\n",
       " 'Дунька с горки катится,\\nНа ней бородово платьице!',\n",
       " '<смеется>',\n",
       " '[С: Здорово!]',\n",
       " '[CНП:] Вот это на Масленицу мы пели.<смеется>']"
      ]
     },
     "execution_count": 89,
     "metadata": {},
     "output_type": "execute_result"
    }
   ],
   "source": [
    "split_sentences(data[4][-1])"
   ]
  },
  {
   "cell_type": "code",
   "execution_count": null,
   "metadata": {},
   "outputs": [],
   "source": [
    "\"meta\": {\n",
    "    \"speaker\": \"AP\",\n",
    "    \"gender\": \"M\",\n",
    "    \"year\": \"2017\"\n",
    "  }"
   ]
  }
 ],
 "metadata": {
  "kernelspec": {
   "display_name": "Python 3",
   "language": "python",
   "name": "python3"
  },
  "language_info": {
   "codemirror_mode": {
    "name": "ipython",
    "version": 3
   },
   "file_extension": ".py",
   "mimetype": "text/x-python",
   "name": "python",
   "nbconvert_exporter": "python",
   "pygments_lexer": "ipython3",
   "version": "3.6.6"
  }
 },
 "nbformat": 4,
 "nbformat_minor": 2
}
